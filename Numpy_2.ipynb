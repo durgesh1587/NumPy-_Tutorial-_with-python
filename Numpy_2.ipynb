{
 "cells": [
  {
   "cell_type": "code",
   "execution_count": 1,
   "id": "1b41d240-94cb-4be7-ae7c-f427cbcd53e2",
   "metadata": {},
   "outputs": [],
   "source": [
    "#Numpy - Array Manipulation."
   ]
  },
  {
   "cell_type": "code",
   "execution_count": 232,
   "id": "c3617457-6a28-404f-becf-ada18c5cfc7d",
   "metadata": {},
   "outputs": [],
   "source": [
    "import numpy as np"
   ]
  },
  {
   "cell_type": "code",
   "execution_count": 233,
   "id": "d44de8f9-2c3e-413e-b596-145de50f4d7c",
   "metadata": {},
   "outputs": [],
   "source": [
    "arr =np.random.randint(1,10,(3,4))"
   ]
  },
  {
   "cell_type": "code",
   "execution_count": 234,
   "id": "3263f6ee-42df-44dc-8a16-525f019ca84f",
   "metadata": {},
   "outputs": [
    {
     "data": {
      "text/plain": [
       "array([[1, 2, 9, 2],\n",
       "       [8, 4, 1, 5],\n",
       "       [1, 7, 2, 6]])"
      ]
     },
     "execution_count": 234,
     "metadata": {},
     "output_type": "execute_result"
    }
   ],
   "source": [
    "#reshape array of size 12 \n",
    "arr"
   ]
  },
  {
   "cell_type": "code",
   "execution_count": 235,
   "id": "8732c381-dec6-4e1d-99e8-ca90a788d010",
   "metadata": {},
   "outputs": [
    {
     "data": {
      "text/plain": [
       "array([[1, 2],\n",
       "       [9, 2],\n",
       "       [8, 4],\n",
       "       [1, 5],\n",
       "       [1, 7],\n",
       "       [2, 6]])"
      ]
     },
     "execution_count": 235,
     "metadata": {},
     "output_type": "execute_result"
    }
   ],
   "source": [
    "arr.reshape(6,2)"
   ]
  },
  {
   "cell_type": "code",
   "execution_count": 236,
   "id": "5ee55b62-ad3c-41dc-9bf2-994c9fc7404f",
   "metadata": {},
   "outputs": [
    {
     "data": {
      "text/plain": [
       "array([[1, 2, 9, 2, 8, 4],\n",
       "       [1, 5, 1, 7, 2, 6]])"
      ]
     },
     "execution_count": 236,
     "metadata": {},
     "output_type": "execute_result"
    }
   ],
   "source": [
    "arr.reshape(2,6)"
   ]
  },
  {
   "cell_type": "code",
   "execution_count": 237,
   "id": "9e88c19c-162f-4877-937c-fe8ae7c67b64",
   "metadata": {},
   "outputs": [
    {
     "ename": "ValueError",
     "evalue": "cannot reshape array of size 12 into shape (2,7)",
     "output_type": "error",
     "traceback": [
      "\u001b[0;31m---------------------------------------------------------------------------\u001b[0m",
      "\u001b[0;31mValueError\u001b[0m                                Traceback (most recent call last)",
      "Cell \u001b[0;32mIn[237], line 2\u001b[0m\n\u001b[1;32m      1\u001b[0m \u001b[38;5;66;03m#cannot reshape array of size 12 into shape (2,7)\u001b[39;00m\n\u001b[0;32m----> 2\u001b[0m \u001b[43marr\u001b[49m\u001b[38;5;241;43m.\u001b[39;49m\u001b[43mreshape\u001b[49m\u001b[43m(\u001b[49m\u001b[38;5;241;43m2\u001b[39;49m\u001b[43m,\u001b[49m\u001b[38;5;241;43m7\u001b[39;49m\u001b[43m)\u001b[49m\n",
      "\u001b[0;31mValueError\u001b[0m: cannot reshape array of size 12 into shape (2,7)"
     ]
    }
   ],
   "source": [
    "#cannot reshape array of size 12 into shape (2,7)\n",
    "arr.reshape(2,7)"
   ]
  },
  {
   "cell_type": "code",
   "execution_count": 238,
   "id": "fd477a79-8a00-406c-8ba5-292432ac4c28",
   "metadata": {},
   "outputs": [
    {
     "data": {
      "text/plain": [
       "array([[1, 2, 9, 2, 8, 4],\n",
       "       [1, 5, 1, 7, 2, 6]])"
      ]
     },
     "execution_count": 238,
     "metadata": {},
     "output_type": "execute_result"
    }
   ],
   "source": [
    "arr.reshape(2,-525455)"
   ]
  },
  {
   "cell_type": "code",
   "execution_count": 239,
   "id": "ca65b5d7-8dea-4c2b-84ca-f128e1465a30",
   "metadata": {},
   "outputs": [
    {
     "data": {
      "text/plain": [
       "array([[1, 8, 1],\n",
       "       [2, 4, 7],\n",
       "       [9, 1, 2],\n",
       "       [2, 5, 6]])"
      ]
     },
     "execution_count": 239,
     "metadata": {},
     "output_type": "execute_result"
    }
   ],
   "source": [
    "# this function array all data tranport 'T'.\n",
    "# This function mian 180' digree rotat data \n",
    "arr.T"
   ]
  },
  {
   "cell_type": "code",
   "execution_count": 240,
   "id": "80b6366a-d706-4035-9d9f-89dca66ad6e2",
   "metadata": {},
   "outputs": [
    {
     "data": {
      "text/plain": [
       "array([[1, 2, 9, 2],\n",
       "       [8, 4, 1, 5],\n",
       "       [1, 7, 2, 6]])"
      ]
     },
     "execution_count": 240,
     "metadata": {},
     "output_type": "execute_result"
    }
   ],
   "source": [
    "# real data data shape.\n",
    "arr"
   ]
  },
  {
   "cell_type": "code",
   "execution_count": 241,
   "id": "7f57d495-e847-44ec-9f95-49b2f0808bc9",
   "metadata": {},
   "outputs": [
    {
     "data": {
      "text/plain": [
       "array([1, 2, 9, 2, 8, 4, 1, 5, 1, 7, 2, 6])"
      ]
     },
     "execution_count": 241,
     "metadata": {},
     "output_type": "execute_result"
    }
   ],
   "source": [
    "# this function do any data convert single dymantion .\n",
    "arr.flatten()"
   ]
  },
  {
   "cell_type": "code",
   "execution_count": 242,
   "id": "b3de7247-b5e2-406f-8f27-2f5e241cc68a",
   "metadata": {},
   "outputs": [],
   "source": [
    "arr1=np.array([6, 6, 4, 5, 3, 7])"
   ]
  },
  {
   "cell_type": "code",
   "execution_count": 243,
   "id": "9ee5ca0f-e55e-4d95-9317-5aed22e064d8",
   "metadata": {},
   "outputs": [
    {
     "data": {
      "text/plain": [
       "1"
      ]
     },
     "execution_count": 243,
     "metadata": {},
     "output_type": "execute_result"
    }
   ],
   "source": [
    "#This function dymantion 1 this time \n",
    "arr1.ndim"
   ]
  },
  {
   "cell_type": "code",
   "execution_count": 244,
   "id": "4ee3764b-7392-42c9-8fd8-6e485afa1a5d",
   "metadata": {},
   "outputs": [],
   "source": [
    "#This function with single dymantion change = 2 dymantion \n",
    "db1=np.expand_dims(arr1,axis=1)"
   ]
  },
  {
   "cell_type": "code",
   "execution_count": 245,
   "id": "af8701d2-d135-4334-85d9-a0b9f11bcf27",
   "metadata": {},
   "outputs": [
    {
     "data": {
      "text/plain": [
       "array([[6],\n",
       "       [6],\n",
       "       [4],\n",
       "       [5],\n",
       "       [3],\n",
       "       [7]])"
      ]
     },
     "execution_count": 245,
     "metadata": {},
     "output_type": "execute_result"
    }
   ],
   "source": [
    "db1"
   ]
  },
  {
   "cell_type": "code",
   "execution_count": 246,
   "id": "13227460-682a-4fc3-ac59-131daa882d3c",
   "metadata": {},
   "outputs": [
    {
     "data": {
      "text/plain": [
       "2"
      ]
     },
     "execution_count": 246,
     "metadata": {},
     "output_type": "execute_result"
    }
   ],
   "source": [
    "db1.ndim"
   ]
  },
  {
   "cell_type": "code",
   "execution_count": 247,
   "id": "9be2d479-2be4-4d00-b323-b9c81f429c3a",
   "metadata": {},
   "outputs": [
    {
     "data": {
      "text/plain": [
       "array([[6, 6, 4, 5, 3, 7]])"
      ]
     },
     "execution_count": 247,
     "metadata": {},
     "output_type": "execute_result"
    }
   ],
   "source": [
    "np.expand_dims(arr1,axis=0)"
   ]
  },
  {
   "cell_type": "code",
   "execution_count": 248,
   "id": "30a8ebb4-b651-4f92-b712-2a8ac77838b4",
   "metadata": {},
   "outputs": [
    {
     "data": {
      "text/plain": [
       "array([[1, 2, 9, 2],\n",
       "       [8, 4, 1, 5],\n",
       "       [1, 7, 2, 6]])"
      ]
     },
     "execution_count": 248,
     "metadata": {},
     "output_type": "execute_result"
    }
   ],
   "source": [
    "arr"
   ]
  },
  {
   "cell_type": "code",
   "execution_count": 249,
   "id": "ccd2fc8f-abd0-4fa3-b02a-2eec434f8a06",
   "metadata": {},
   "outputs": [],
   "source": [
    "data =np.array([[1],[2],[3],[4]])"
   ]
  },
  {
   "cell_type": "code",
   "execution_count": 250,
   "id": "4393c787-ea36-4730-8c47-4fd68eb6575c",
   "metadata": {},
   "outputs": [
    {
     "data": {
      "text/plain": [
       "array([[1],\n",
       "       [2],\n",
       "       [3],\n",
       "       [4]])"
      ]
     },
     "execution_count": 250,
     "metadata": {},
     "output_type": "execute_result"
    }
   ],
   "source": [
    "data"
   ]
  },
  {
   "cell_type": "code",
   "execution_count": 251,
   "id": "4f3ceddf-8eb1-4c0f-970d-f9adf7cbe535",
   "metadata": {},
   "outputs": [
    {
     "data": {
      "text/plain": [
       "array([1, 2, 3, 4])"
      ]
     },
     "execution_count": 251,
     "metadata": {},
     "output_type": "execute_result"
    }
   ],
   "source": [
    "# this function with all difrent shape  data all data squeeze  single line output.\n",
    "np.squeeze(data)"
   ]
  },
  {
   "cell_type": "code",
   "execution_count": 252,
   "id": "09ee6313-96e4-4483-9db0-2fbda27931b9",
   "metadata": {},
   "outputs": [
    {
     "data": {
      "text/plain": [
       "array([1, 1, 1, 2, 2, 2, 9, 9, 9, 2, 2, 2, 8, 8, 8, 4, 4, 4, 1, 1, 1, 5,\n",
       "       5, 5, 1, 1, 1, 7, 7, 7, 2, 2, 2, 6, 6, 6])"
      ]
     },
     "execution_count": 252,
     "metadata": {},
     "output_type": "execute_result"
    }
   ],
   "source": [
    "#this function with i am give 3 times data he is repeat all data \n",
    "np.repeat(arr,3)"
   ]
  },
  {
   "cell_type": "code",
   "execution_count": 253,
   "id": "088c857a-16ce-4782-a2ca-ff32fe082696",
   "metadata": {},
   "outputs": [
    {
     "data": {
      "text/plain": [
       "array([[1, 2, 9, 2],\n",
       "       [8, 4, 1, 5],\n",
       "       [1, 7, 2, 6]])"
      ]
     },
     "execution_count": 253,
     "metadata": {},
     "output_type": "execute_result"
    }
   ],
   "source": [
    "#this is Origenal data .\n",
    "arr"
   ]
  },
  {
   "cell_type": "code",
   "execution_count": 254,
   "id": "e01c5393-ca6e-481a-964a-651a138ccc26",
   "metadata": {},
   "outputs": [
    {
     "data": {
      "text/plain": [
       "array([[2, 6, 1, 2],\n",
       "       [9, 2, 8, 4],\n",
       "       [1, 5, 1, 7]])"
      ]
     },
     "execution_count": 254,
     "metadata": {},
     "output_type": "execute_result"
    }
   ],
   "source": [
    "# this function with working shift working this time i am give number 2 \n",
    "# this function besicly rorat 2  function data \n",
    "np.roll(arr ,2)"
   ]
  },
  {
   "cell_type": "code",
   "execution_count": 255,
   "id": "1124d4d2-3cd5-4376-a3ac-ce325df5757d",
   "metadata": {},
   "outputs": [
    {
     "data": {
      "text/plain": [
       "array([[6, 0, 0, 0, 0, 0],\n",
       "       [0, 6, 0, 0, 0, 0],\n",
       "       [0, 0, 4, 0, 0, 0],\n",
       "       [0, 0, 0, 5, 0, 0],\n",
       "       [0, 0, 0, 0, 3, 0],\n",
       "       [0, 0, 0, 0, 0, 7]])"
      ]
     },
     "execution_count": 255,
     "metadata": {},
     "output_type": "execute_result"
    }
   ],
   "source": [
    "# this function all array data diag shape show [6,6,4,5,3,7] this value .\n",
    "np.diag(arr1)"
   ]
  },
  {
   "cell_type": "code",
   "execution_count": 256,
   "id": "a157c469-1d74-4e7c-a4ea-3c14ae779b01",
   "metadata": {},
   "outputs": [],
   "source": [
    "# Numpy - Binary Operators :"
   ]
  },
  {
   "cell_type": "code",
   "execution_count": 257,
   "id": "48877476-6d16-4f6d-9247-9bb7bc01b5f9",
   "metadata": {},
   "outputs": [],
   "source": [
    "arr11=np.random.randint(1,10,(3,4))"
   ]
  },
  {
   "cell_type": "code",
   "execution_count": 258,
   "id": "ba68c190-d06f-4922-97ff-ca19e6067734",
   "metadata": {},
   "outputs": [],
   "source": [
    "arr10=np.random.randint(1,10,(3,4))"
   ]
  },
  {
   "cell_type": "code",
   "execution_count": 259,
   "id": "c5a40ab4-2946-4a37-a350-01afc7875f4b",
   "metadata": {},
   "outputs": [
    {
     "data": {
      "text/plain": [
       "array([[2, 8, 3, 2],\n",
       "       [5, 7, 9, 1],\n",
       "       [9, 6, 1, 9]])"
      ]
     },
     "execution_count": 259,
     "metadata": {},
     "output_type": "execute_result"
    }
   ],
   "source": [
    "arr11"
   ]
  },
  {
   "cell_type": "code",
   "execution_count": 260,
   "id": "04982a86-802e-47a8-b8b2-3272f931590e",
   "metadata": {},
   "outputs": [
    {
     "data": {
      "text/plain": [
       "array([[2, 7, 4, 2],\n",
       "       [8, 6, 4, 8],\n",
       "       [7, 4, 3, 6]])"
      ]
     },
     "execution_count": 260,
     "metadata": {},
     "output_type": "execute_result"
    }
   ],
   "source": [
    "arr10"
   ]
  },
  {
   "cell_type": "code",
   "execution_count": 261,
   "id": "dbe0cf04-2f3b-4d82-a092-4f4c7197cc33",
   "metadata": {},
   "outputs": [
    {
     "data": {
      "text/plain": [
       "array([[ 4, 15,  7,  4],\n",
       "       [13, 13, 13,  9],\n",
       "       [16, 10,  4, 15]])"
      ]
     },
     "execution_count": 261,
     "metadata": {},
     "output_type": "execute_result"
    }
   ],
   "source": [
    "# this function data index number count one by one like '9+8=17'.\n",
    "arr11+arr10"
   ]
  },
  {
   "cell_type": "code",
   "execution_count": 262,
   "id": "fbeb8190-6a56-4c6f-bb7b-72eafd0c478e",
   "metadata": {},
   "outputs": [
    {
     "data": {
      "text/plain": [
       "array([[ 4, 56, 12,  4],\n",
       "       [40, 42, 36,  8],\n",
       "       [63, 24,  3, 54]])"
      ]
     },
     "execution_count": 262,
     "metadata": {},
     "output_type": "execute_result"
    }
   ],
   "source": [
    "arr11*arr10"
   ]
  },
  {
   "cell_type": "code",
   "execution_count": 263,
   "id": "ebc9a6fb-feaf-4578-a6c3-17b08d13115a",
   "metadata": {},
   "outputs": [
    {
     "data": {
      "text/plain": [
       "array([[1.        , 1.14285714, 0.75      , 1.        ],\n",
       "       [0.625     , 1.16666667, 2.25      , 0.125     ],\n",
       "       [1.28571429, 1.5       , 0.33333333, 1.5       ]])"
      ]
     },
     "execution_count": 263,
     "metadata": {},
     "output_type": "execute_result"
    }
   ],
   "source": [
    "arr11/arr10"
   ]
  },
  {
   "cell_type": "code",
   "execution_count": 264,
   "id": "208a78ef-35c2-49a4-a05c-3fa631f55a07",
   "metadata": {},
   "outputs": [
    {
     "data": {
      "text/plain": [
       "array([[0, 1, 3, 0],\n",
       "       [5, 1, 1, 1],\n",
       "       [2, 2, 1, 3]])"
      ]
     },
     "execution_count": 264,
     "metadata": {},
     "output_type": "execute_result"
    }
   ],
   "source": [
    "#this function reminder function divid and after shase show me 9/8 =1\n",
    "arr11%arr10"
   ]
  },
  {
   "cell_type": "code",
   "execution_count": 265,
   "id": "9b126c17-a3b9-46de-aab9-152558ccacec",
   "metadata": {},
   "outputs": [
    {
     "data": {
      "text/plain": [
       "array([[ -3,  -9,  -4,  -3],\n",
       "       [ -6,  -8, -10,  -2],\n",
       "       [-10,  -7,  -2, -10]])"
      ]
     },
     "execution_count": 265,
     "metadata": {},
     "output_type": "execute_result"
    }
   ],
   "source": [
    "#this function nigate function \n",
    "~arr11"
   ]
  },
  {
   "cell_type": "code",
   "execution_count": 266,
   "id": "1c7d367d-d564-447f-a8c6-f994cf107b9a",
   "metadata": {},
   "outputs": [
    {
     "data": {
      "text/plain": [
       "array([[False,  True, False, False],\n",
       "       [False,  True,  True, False],\n",
       "       [ True,  True, False,  True]])"
      ]
     },
     "execution_count": 266,
     "metadata": {},
     "output_type": "execute_result"
    }
   ],
   "source": [
    "arr11>arr10"
   ]
  },
  {
   "cell_type": "code",
   "execution_count": 267,
   "id": "4122f5f4-660a-4c79-b99a-3c51bd25d99b",
   "metadata": {},
   "outputs": [],
   "source": [
    "#Numpy - String Function ."
   ]
  },
  {
   "cell_type": "code",
   "execution_count": 268,
   "id": "d44779d8-a583-46a4-ad77-41d18b1c3743",
   "metadata": {},
   "outputs": [],
   "source": [
    "arr=np.array(['durgesh' ,'kharwar'])"
   ]
  },
  {
   "cell_type": "code",
   "execution_count": 269,
   "id": "37cba89e-69ad-43ca-8e59-9ba714dda608",
   "metadata": {},
   "outputs": [
    {
     "data": {
      "text/plain": [
       "array(['durgesh', 'kharwar'], dtype='<U7')"
      ]
     },
     "execution_count": 269,
     "metadata": {},
     "output_type": "execute_result"
    }
   ],
   "source": [
    "arr"
   ]
  },
  {
   "cell_type": "code",
   "execution_count": 270,
   "id": "78781cc2-13ee-4c6e-a536-cc8846181f38",
   "metadata": {},
   "outputs": [
    {
     "data": {
      "text/plain": [
       "array(['DURGESH', 'KHARWAR'], dtype='<U7')"
      ]
     },
     "execution_count": 270,
     "metadata": {},
     "output_type": "execute_result"
    }
   ],
   "source": [
    "#this function with upper in numpy data .\n",
    "np.char.upper(arr)"
   ]
  },
  {
   "cell_type": "code",
   "execution_count": 271,
   "id": "bcc44c14-2de2-4cb8-84b9-f6d91794a91d",
   "metadata": {},
   "outputs": [
    {
     "data": {
      "text/plain": [
       "array(['Durgesh', 'Kharwar'], dtype='<U7')"
      ]
     },
     "execution_count": 271,
     "metadata": {},
     "output_type": "execute_result"
    }
   ],
   "source": [
    "#this function with title in numpy data .\n",
    "np.char.title(arr)"
   ]
  },
  {
   "cell_type": "code",
   "execution_count": 272,
   "id": "c580c5f7-0391-42f9-9149-32909c1ac23f",
   "metadata": {},
   "outputs": [
    {
     "data": {
      "text/plain": [
       "array(['Durgesh', 'Kharwar'], dtype='<U7')"
      ]
     },
     "execution_count": 272,
     "metadata": {},
     "output_type": "execute_result"
    }
   ],
   "source": [
    "np.char.capitalize(arr)"
   ]
  },
  {
   "cell_type": "code",
   "execution_count": 273,
   "id": "ad9fd338-6d0b-4339-a3a9-e94c0045f785",
   "metadata": {},
   "outputs": [],
   "source": [
    "# Numpy - Mathmatical Functions."
   ]
  },
  {
   "cell_type": "code",
   "execution_count": 274,
   "id": "2330eee9-f920-48a6-b026-0e850b033d0a",
   "metadata": {},
   "outputs": [
    {
     "data": {
      "text/plain": [
       "array([6, 6, 4, 5, 3, 7])"
      ]
     },
     "execution_count": 274,
     "metadata": {},
     "output_type": "execute_result"
    }
   ],
   "source": [
    "arr1"
   ]
  },
  {
   "cell_type": "code",
   "execution_count": 275,
   "id": "8a24d250-b870-4c93-863e-5fdabf9f9b71",
   "metadata": {},
   "outputs": [
    {
     "data": {
      "text/plain": [
       "array([-0.2794155 , -0.2794155 , -0.7568025 , -0.95892427,  0.14112001,\n",
       "        0.6569866 ])"
      ]
     },
     "execution_count": 275,
     "metadata": {},
     "output_type": "execute_result"
    }
   ],
   "source": [
    "np.sin(arr1)"
   ]
  },
  {
   "cell_type": "code",
   "execution_count": 276,
   "id": "adac178d-d0c0-4516-81b4-d6af00d3f15f",
   "metadata": {},
   "outputs": [
    {
     "data": {
      "text/plain": [
       "array([ 0.96017029,  0.96017029, -0.65364362,  0.28366219, -0.9899925 ,\n",
       "        0.75390225])"
      ]
     },
     "execution_count": 276,
     "metadata": {},
     "output_type": "execute_result"
    }
   ],
   "source": [
    "np.cos(arr1)"
   ]
  },
  {
   "cell_type": "code",
   "execution_count": 277,
   "id": "febaba89-2944-48a2-8654-f6c283fb3aca",
   "metadata": {},
   "outputs": [
    {
     "data": {
      "text/plain": [
       "array([-0.29100619, -0.29100619,  1.15782128, -3.38051501, -0.14254654,\n",
       "        0.87144798])"
      ]
     },
     "execution_count": 277,
     "metadata": {},
     "output_type": "execute_result"
    }
   ],
   "source": [
    "np.tan(arr1)"
   ]
  },
  {
   "cell_type": "code",
   "execution_count": 278,
   "id": "b685141f-ce97-466b-b5db-91705f492e5e",
   "metadata": {},
   "outputs": [
    {
     "data": {
      "text/plain": [
       "array([0.99998771, 0.99998771, 0.9993293 , 0.9999092 , 0.99505475,\n",
       "       0.99999834])"
      ]
     },
     "execution_count": 278,
     "metadata": {},
     "output_type": "execute_result"
    }
   ],
   "source": [
    "np.tanh(arr1)"
   ]
  },
  {
   "cell_type": "code",
   "execution_count": 279,
   "id": "a99014c9-8c47-4198-a4aa-7e69223a35cb",
   "metadata": {},
   "outputs": [
    {
     "data": {
      "text/plain": [
       "array([0.77815125, 0.77815125, 0.60205999, 0.69897   , 0.47712125,\n",
       "       0.84509804])"
      ]
     },
     "execution_count": 279,
     "metadata": {},
     "output_type": "execute_result"
    }
   ],
   "source": [
    "np.log10(arr1)"
   ]
  },
  {
   "cell_type": "code",
   "execution_count": 280,
   "id": "7f60b1ca-c498-415b-a7fa-11011c5f0364",
   "metadata": {},
   "outputs": [
    {
     "data": {
      "text/plain": [
       "array([ 403.42879349,  403.42879349,   54.59815003,  148.4131591 ,\n",
       "         20.08553692, 1096.63315843])"
      ]
     },
     "execution_count": 280,
     "metadata": {},
     "output_type": "execute_result"
    }
   ],
   "source": [
    "np.exp(arr1)"
   ]
  },
  {
   "cell_type": "code",
   "execution_count": 281,
   "id": "8e6a88da-1f1d-4f38-ab8e-450c686df00b",
   "metadata": {},
   "outputs": [
    {
     "data": {
      "text/plain": [
       "array([2.44948974, 2.44948974, 2.        , 2.23606798, 1.73205081,\n",
       "       2.64575131])"
      ]
     },
     "execution_count": 281,
     "metadata": {},
     "output_type": "execute_result"
    }
   ],
   "source": [
    "np.sqrt(arr1)"
   ]
  },
  {
   "cell_type": "code",
   "execution_count": 282,
   "id": "88793809-cd6a-4ded-ac50-a992d8253d29",
   "metadata": {},
   "outputs": [
    {
     "data": {
      "text/plain": [
       "array([36, 36, 16, 25,  9, 49])"
      ]
     },
     "execution_count": 282,
     "metadata": {},
     "output_type": "execute_result"
    }
   ],
   "source": [
    "#np.power(*args, **kwargs)\n",
    "#Raise each base in `x1` to the positionally-corresponding power in `x2`.  `x1` and `x2` must be broadcastable to the same shape\n",
    "np.power(arr1, 2)"
   ]
  },
  {
   "cell_type": "code",
   "execution_count": 283,
   "id": "44a36241-8ea2-4cb1-bccf-b517c4ccb5a0",
   "metadata": {},
   "outputs": [
    {
     "data": {
      "text/plain": [
       "5.166666666666667"
      ]
     },
     "execution_count": 283,
     "metadata": {},
     "output_type": "execute_result"
    }
   ],
   "source": [
    "np.mean(arr1)"
   ]
  },
  {
   "cell_type": "code",
   "execution_count": 284,
   "id": "d55d82cf-d77a-4038-9a2f-019ea9cce72f",
   "metadata": {},
   "outputs": [
    {
     "data": {
      "text/plain": [
       "5.5"
      ]
     },
     "execution_count": 284,
     "metadata": {},
     "output_type": "execute_result"
    }
   ],
   "source": [
    "np.median(arr1)"
   ]
  },
  {
   "cell_type": "code",
   "execution_count": 285,
   "id": "6ac2f7d6-eee4-4742-9842-55828d9f0b69",
   "metadata": {},
   "outputs": [
    {
     "data": {
      "text/plain": [
       "1.3437096247164249"
      ]
     },
     "execution_count": 285,
     "metadata": {},
     "output_type": "execute_result"
    }
   ],
   "source": [
    "np.std(arr1)"
   ]
  },
  {
   "cell_type": "code",
   "execution_count": 286,
   "id": "2814664f-1737-45b7-88a5-d418d8934630",
   "metadata": {},
   "outputs": [
    {
     "data": {
      "text/plain": [
       "1.8055555555555554"
      ]
     },
     "execution_count": 286,
     "metadata": {},
     "output_type": "execute_result"
    }
   ],
   "source": [
    "np.var(arr1)"
   ]
  },
  {
   "cell_type": "code",
   "execution_count": 287,
   "id": "bd3fc43f-85c3-428a-bd79-75a04d2f4bb4",
   "metadata": {},
   "outputs": [
    {
     "data": {
      "text/plain": [
       "7"
      ]
     },
     "execution_count": 287,
     "metadata": {},
     "output_type": "execute_result"
    }
   ],
   "source": [
    "np.max(arr1)"
   ]
  },
  {
   "cell_type": "code",
   "execution_count": 288,
   "id": "3914b5e4-d9ab-4b28-87b4-27c4ac1e01a0",
   "metadata": {},
   "outputs": [],
   "source": [
    "#Short , Searching & Counting Function ."
   ]
  },
  {
   "cell_type": "code",
   "execution_count": 289,
   "id": "a87fd08f-4964-4f64-8550-c1756837ec65",
   "metadata": {},
   "outputs": [],
   "source": [
    "st= np.array([4,5,2,4,5,6,8,7,8])"
   ]
  },
  {
   "cell_type": "code",
   "execution_count": 290,
   "id": "5e07a9e4-c228-4cd9-830c-c28d5fd5dbf6",
   "metadata": {},
   "outputs": [
    {
     "data": {
      "text/plain": [
       "array([2, 4, 4, 5, 5, 6, 7, 8, 8])"
      ]
     },
     "execution_count": 290,
     "metadata": {},
     "output_type": "execute_result"
    }
   ],
   "source": [
    "#this functiong working all number serise wise put like  -1,2,3,4,5,6,7,8,9 ect.\n",
    "np.sort(st)"
   ]
  },
  {
   "cell_type": "code",
   "execution_count": 291,
   "id": "6f7cd9f7-22ea-41a2-b70a-09e2f0a4b7a1",
   "metadata": {},
   "outputs": [
    {
     "data": {
      "text/plain": [
       "9"
      ]
     },
     "execution_count": 291,
     "metadata": {},
     "output_type": "execute_result"
    }
   ],
   "source": [
    "np.searchsorted(st,12)"
   ]
  },
  {
   "cell_type": "code",
   "execution_count": 292,
   "id": "1e17fe1a-4d52-4002-a613-0c6bffeac00b",
   "metadata": {},
   "outputs": [],
   "source": [
    "sst =np.array([0,587,526,421,121,0,420,0,514,2,0,0,0])"
   ]
  },
  {
   "cell_type": "code",
   "execution_count": 293,
   "id": "4e27a681-d92f-4400-9848-6b9009dd5858",
   "metadata": {},
   "outputs": [
    {
     "data": {
      "text/plain": [
       "array([  0, 587, 526, 421, 121,   0, 420,   0, 514,   2,   0,   0,   0])"
      ]
     },
     "execution_count": 293,
     "metadata": {},
     "output_type": "execute_result"
    }
   ],
   "source": [
    "sst"
   ]
  },
  {
   "cell_type": "code",
   "execution_count": 294,
   "id": "54ec6204-2163-4801-9099-9018e95f6741",
   "metadata": {},
   "outputs": [
    {
     "data": {
      "text/plain": [
       "7"
      ]
     },
     "execution_count": 294,
     "metadata": {},
     "output_type": "execute_result"
    }
   ],
   "source": [
    "# this function count how many time run data count '0' \n",
    "np.count_nonzero(sst)"
   ]
  },
  {
   "cell_type": "code",
   "execution_count": 295,
   "id": "ce695bcd-c011-4d96-9bf1-fb67add11638",
   "metadata": {},
   "outputs": [
    {
     "data": {
      "text/plain": [
       "array([4, 5, 2, 4, 5, 6, 8, 7, 8])"
      ]
     },
     "execution_count": 295,
     "metadata": {},
     "output_type": "execute_result"
    }
   ],
   "source": [
    "st"
   ]
  },
  {
   "cell_type": "code",
   "execution_count": 296,
   "id": "f78a4d13-e828-4b23-b3d8-618ea7e0f432",
   "metadata": {},
   "outputs": [
    {
     "data": {
      "text/plain": [
       "(array([6, 7, 8]),)"
      ]
     },
     "execution_count": 296,
     "metadata": {},
     "output_type": "execute_result"
    }
   ],
   "source": [
    "# this function with fing index data  whare my data location .\n",
    "np.where(st>6)"
   ]
  },
  {
   "cell_type": "code",
   "execution_count": 297,
   "id": "2c2aa58a-bcdf-4894-9a5d-2cd2431673e7",
   "metadata": {},
   "outputs": [
    {
     "data": {
      "text/plain": [
       "array([4, 5, 4, 5, 6, 8, 7, 8])"
      ]
     },
     "execution_count": 297,
     "metadata": {},
     "output_type": "execute_result"
    }
   ],
   "source": [
    "# this function with 3 abeve all data give me output.\n",
    "np.extract(st>3,st)"
   ]
  },
  {
   "cell_type": "code",
   "execution_count": 298,
   "id": "f903c5f7-6c30-4968-b604-eb41f1efbb2b",
   "metadata": {},
   "outputs": [
    {
     "data": {
      "text/plain": [
       "array([4, 5, 2, 4, 5, 6, 8, 7, 8])"
      ]
     },
     "execution_count": 298,
     "metadata": {},
     "output_type": "execute_result"
    }
   ],
   "source": [
    "st"
   ]
  },
  {
   "cell_type": "code",
   "execution_count": 299,
   "id": "0e41378c-cf7e-4048-8a90-3aeea38ddcf0",
   "metadata": {},
   "outputs": [],
   "source": [
    "#Numpy - Byte Swapping ."
   ]
  },
  {
   "cell_type": "code",
   "execution_count": 300,
   "id": "eff09c40-57ba-46ed-bf43-9a6cc6b9f2f3",
   "metadata": {},
   "outputs": [
    {
     "data": {
      "text/plain": [
       "array([4, 5, 2, 4, 5, 6, 8, 7, 8])"
      ]
     },
     "execution_count": 300,
     "metadata": {},
     "output_type": "execute_result"
    }
   ],
   "source": [
    "st"
   ]
  },
  {
   "cell_type": "code",
   "execution_count": 301,
   "id": "084437cf-d94d-4203-8d2d-68660aa02d08",
   "metadata": {},
   "outputs": [
    {
     "data": {
      "text/plain": [
       "array([288230376151711744, 360287970189639680, 144115188075855872,\n",
       "       288230376151711744, 360287970189639680, 432345564227567616,\n",
       "       576460752303423488, 504403158265495552, 576460752303423488])"
      ]
     },
     "execution_count": 301,
     "metadata": {},
     "output_type": "execute_result"
    }
   ],
   "source": [
    "# this data give me output byte array data.\n",
    "st.byteswap()"
   ]
  },
  {
   "cell_type": "code",
   "execution_count": 302,
   "id": "e382de6f-5feb-42fb-9c78-cf3cc2eeee62",
   "metadata": {},
   "outputs": [],
   "source": [
    "#Numpy - Copies & Views."
   ]
  },
  {
   "cell_type": "code",
   "execution_count": 304,
   "id": "03991afe-6bc8-4607-8767-0428f2d03acd",
   "metadata": {},
   "outputs": [
    {
     "data": {
      "text/plain": [
       "array([4, 5, 2, 4, 5, 6, 8, 7, 8])"
      ]
     },
     "execution_count": 304,
     "metadata": {},
     "output_type": "execute_result"
    }
   ],
   "source": [
    "st"
   ]
  },
  {
   "cell_type": "code",
   "execution_count": 305,
   "id": "7d5d68f2-1a8c-4269-87f0-7a797e3ceb16",
   "metadata": {},
   "outputs": [],
   "source": [
    "#this data deep copy not change another data data change only select veriable data .\n",
    "a =np.copy(st)"
   ]
  },
  {
   "cell_type": "code",
   "execution_count": 306,
   "id": "101887c5-c364-4a16-bce6-b10633435689",
   "metadata": {},
   "outputs": [
    {
     "data": {
      "text/plain": [
       "array([4, 5, 2, 4, 5, 6, 8, 7, 8])"
      ]
     },
     "execution_count": 306,
     "metadata": {},
     "output_type": "execute_result"
    }
   ],
   "source": [
    "a"
   ]
  },
  {
   "cell_type": "code",
   "execution_count": 309,
   "id": "f25c45ed-d6c1-41a0-a08c-e2e376d01410",
   "metadata": {},
   "outputs": [],
   "source": [
    "b =st.view()"
   ]
  },
  {
   "cell_type": "code",
   "execution_count": 310,
   "id": "46b1f644-faac-4289-bad0-6c181256215c",
   "metadata": {},
   "outputs": [
    {
     "data": {
      "text/plain": [
       "array([4, 5, 2, 4, 5, 6, 8, 7, 8])"
      ]
     },
     "execution_count": 310,
     "metadata": {},
     "output_type": "execute_result"
    }
   ],
   "source": [
    "b"
   ]
  },
  {
   "cell_type": "code",
   "execution_count": 311,
   "id": "1336d9af-493b-44f8-bb0a-6d311fbd5cba",
   "metadata": {},
   "outputs": [],
   "source": [
    "b [0] =10"
   ]
  },
  {
   "cell_type": "code",
   "execution_count": 312,
   "id": "8c863a65-b5bb-4dc7-a230-cbc8dec7da7c",
   "metadata": {},
   "outputs": [
    {
     "data": {
      "text/plain": [
       "array([10,  5,  2,  4,  5,  6,  8,  7,  8])"
      ]
     },
     "execution_count": 312,
     "metadata": {},
     "output_type": "execute_result"
    }
   ],
   "source": [
    "b"
   ]
  },
  {
   "cell_type": "code",
   "execution_count": 313,
   "id": "5f462979-8af3-45d5-bb14-5ca4c3f63a06",
   "metadata": {},
   "outputs": [],
   "source": [
    "# Numpy - Matrix Library."
   ]
  },
  {
   "cell_type": "code",
   "execution_count": 314,
   "id": "6993f8bd-82e7-4271-b039-0e9905e30a9f",
   "metadata": {},
   "outputs": [],
   "source": [
    "import numpy.matlib as nm"
   ]
  },
  {
   "cell_type": "code",
   "execution_count": 316,
   "id": "efbc54bb-af95-441d-b48b-6815255e7403",
   "metadata": {},
   "outputs": [
    {
     "data": {
      "text/plain": [
       "matrix([[0., 0., 0., 0., 0.]])"
      ]
     },
     "execution_count": 316,
     "metadata": {},
     "output_type": "execute_result"
    }
   ],
   "source": [
    "#This library ganarate data  \n",
    "nm.zeros(5)"
   ]
  },
  {
   "cell_type": "code",
   "execution_count": 318,
   "id": "4800cc19-45e7-4a78-8f65-cc5d33c12c1b",
   "metadata": {},
   "outputs": [
    {
     "data": {
      "text/plain": [
       "matrix([[1.]])"
      ]
     },
     "execution_count": 318,
     "metadata": {},
     "output_type": "execute_result"
    }
   ],
   "source": [
    "# this function with by difult ganarete data \"1.\" matrix data \n",
    "nm.ones(())"
   ]
  },
  {
   "cell_type": "code",
   "execution_count": 321,
   "id": "32ef6443-bfa5-49a9-9142-b0040f4e41a3",
   "metadata": {},
   "outputs": [
    {
     "data": {
      "text/plain": [
       "matrix([[1., 1., 1., 1.],\n",
       "        [1., 1., 1., 1.],\n",
       "        [1., 1., 1., 1.]])"
      ]
     },
     "execution_count": 321,
     "metadata": {},
     "output_type": "execute_result"
    }
   ],
   "source": [
    "nm.ones((3,4))"
   ]
  },
  {
   "cell_type": "code",
   "execution_count": 322,
   "id": "d316b5ab-6cbe-46fd-86bd-8c2835d25ea4",
   "metadata": {},
   "outputs": [
    {
     "data": {
      "text/plain": [
       "matrix([[1., 0., 0., 0., 0.],\n",
       "        [0., 1., 0., 0., 0.],\n",
       "        [0., 0., 1., 0., 0.],\n",
       "        [0., 0., 0., 1., 0.],\n",
       "        [0., 0., 0., 0., 1.]])"
      ]
     },
     "execution_count": 322,
     "metadata": {},
     "output_type": "execute_result"
    }
   ],
   "source": [
    "nm.eye(5)"
   ]
  },
  {
   "cell_type": "code",
   "execution_count": 323,
   "id": "9ebc31ce-8397-40ce-b502-fc6460bb2dfa",
   "metadata": {},
   "outputs": [],
   "source": [
    "# Numpy - Linear Algebra"
   ]
  },
  {
   "cell_type": "code",
   "execution_count": 325,
   "id": "e65ae32a-c911-4a88-86e5-e3a44e5b9c0e",
   "metadata": {},
   "outputs": [],
   "source": [
    "la =np.random.randint([[1,2] ,[4,5]])"
   ]
  },
  {
   "cell_type": "code",
   "execution_count": 326,
   "id": "47b30d02-32db-4d1e-8b1c-2b18c74cd09c",
   "metadata": {},
   "outputs": [],
   "source": [
    "la2 =np.random.randint([[4,2] ,[9,8]])"
   ]
  },
  {
   "cell_type": "code",
   "execution_count": 327,
   "id": "d004a35b-5907-4a14-a587-acaf406855a1",
   "metadata": {},
   "outputs": [
    {
     "data": {
      "text/plain": [
       "array([[ 6,  1],\n",
       "       [24,  4]])"
      ]
     },
     "execution_count": 327,
     "metadata": {},
     "output_type": "execute_result"
    }
   ],
   "source": [
    "np.dot(la,la2)"
   ]
  },
  {
   "cell_type": "code",
   "execution_count": 328,
   "id": "4d6dfbc6-9115-4a84-b6b1-251a257985bb",
   "metadata": {},
   "outputs": [
    {
     "data": {
      "text/plain": [
       "array([[ 6,  1],\n",
       "       [24,  4]])"
      ]
     },
     "execution_count": 328,
     "metadata": {},
     "output_type": "execute_result"
    }
   ],
   "source": [
    "la@la2"
   ]
  },
  {
   "cell_type": "code",
   "execution_count": null,
   "id": "10eaaad8-af2c-4088-b282-4bbfc86004f1",
   "metadata": {},
   "outputs": [],
   "source": []
  }
 ],
 "metadata": {
  "kernelspec": {
   "display_name": "Python 3 (ipykernel)",
   "language": "python",
   "name": "python3"
  },
  "language_info": {
   "codemirror_mode": {
    "name": "ipython",
    "version": 3
   },
   "file_extension": ".py",
   "mimetype": "text/x-python",
   "name": "python",
   "nbconvert_exporter": "python",
   "pygments_lexer": "ipython3",
   "version": "3.10.8"
  }
 },
 "nbformat": 4,
 "nbformat_minor": 5
}
