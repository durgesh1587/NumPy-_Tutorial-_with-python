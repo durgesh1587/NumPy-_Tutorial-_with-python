{
 "cells": [
  {
   "cell_type": "code",
   "execution_count": 3,
   "id": "0f346ae5-877c-400f-82d5-eef09cd15a8b",
   "metadata": {},
   "outputs": [],
   "source": [
    "import numpy as np"
   ]
  },
  {
   "cell_type": "code",
   "execution_count": 4,
   "id": "a46a0d0d-2cc7-4e7e-a720-4da965cec4e5",
   "metadata": {},
   "outputs": [],
   "source": [
    "l = [1,2,3,4,5,6]"
   ]
  },
  {
   "cell_type": "code",
   "execution_count": 5,
   "id": "3f251b4f-6417-4e34-81e6-54d0dd18d1cc",
   "metadata": {},
   "outputs": [],
   "source": [
    "# numpy besicliy produce array function this is the super class function  \n",
    "ar=np.array(l)"
   ]
  },
  {
   "cell_type": "code",
   "execution_count": 6,
   "id": "6505bf06-79eb-4ff8-a36d-692242108a9f",
   "metadata": {},
   "outputs": [
    {
     "data": {
      "text/plain": [
       "array([1, 2, 3, 4, 5, 6])"
      ]
     },
     "execution_count": 6,
     "metadata": {},
     "output_type": "execute_result"
    }
   ],
   "source": [
    "ar"
   ]
  },
  {
   "cell_type": "code",
   "execution_count": 7,
   "id": "9b5b715f-d513-4d3f-8bd2-a65a133b38bd",
   "metadata": {},
   "outputs": [
    {
     "data": {
      "text/plain": [
       "numpy.ndarray"
      ]
     },
     "execution_count": 7,
     "metadata": {},
     "output_type": "execute_result"
    }
   ],
   "source": [
    "# this type dimancenal array show me \n",
    "type(ar)"
   ]
  },
  {
   "cell_type": "code",
   "execution_count": 8,
   "id": "f6cda30d-fae9-4fd3-88ff-ee39c0a3317c",
   "metadata": {},
   "outputs": [],
   "source": [
    "# this function 2 dementional array \n",
    "ar2=np.array([[1,2,3],\n",
    "          [4,5,6],\n",
    "          [7,8,9]])"
   ]
  },
  {
   "cell_type": "code",
   "execution_count": 9,
   "id": "16b44407-4e12-4643-a7bf-2839f6310250",
   "metadata": {},
   "outputs": [
    {
     "data": {
      "text/plain": [
       "array([1, 2, 3, 4, 5, 6])"
      ]
     },
     "execution_count": 9,
     "metadata": {},
     "output_type": "execute_result"
    }
   ],
   "source": [
    "#his function give me same data (numpy besicliy produce array function this is the super class function  ).\n",
    "np.asarray(l)"
   ]
  },
  {
   "cell_type": "code",
   "execution_count": 10,
   "id": "f52894eb-78bd-4e42-b7db-e2dd073c014a",
   "metadata": {},
   "outputs": [],
   "source": [
    "a=[1,2,3,4]"
   ]
  },
  {
   "cell_type": "code",
   "execution_count": 11,
   "id": "dfb0b068-b5be-4804-9b0a-e92c2e3fc003",
   "metadata": {},
   "outputs": [
    {
     "data": {
      "text/plain": [
       "array([1, 2, 3, 4])"
      ]
     },
     "execution_count": 11,
     "metadata": {},
     "output_type": "execute_result"
    }
   ],
   "source": [
    "# same index 13 and 5 row \n",
    "np.asanyarray(a)"
   ]
  },
  {
   "cell_type": "code",
   "execution_count": 12,
   "id": "a77e8e5b-2880-4387-8f0d-6dd9752e5cf3",
   "metadata": {},
   "outputs": [],
   "source": [
    "#this funnction already array function this time not convert same data give me \n",
    "b= np.matrix(l)"
   ]
  },
  {
   "cell_type": "code",
   "execution_count": 13,
   "id": "10371fda-e418-4718-912f-cb0622b0a87f",
   "metadata": {},
   "outputs": [
    {
     "data": {
      "text/plain": [
       "matrix([[1, 2, 3, 4, 5, 6]])"
      ]
     },
     "execution_count": 13,
     "metadata": {},
     "output_type": "execute_result"
    }
   ],
   "source": [
    "b"
   ]
  },
  {
   "cell_type": "code",
   "execution_count": 14,
   "id": "b6f32614-9c15-4596-b706-762e19ef6da3",
   "metadata": {},
   "outputs": [
    {
     "data": {
      "text/plain": [
       "matrix([[1, 2, 3, 4, 5, 6]])"
      ]
     },
     "execution_count": 14,
     "metadata": {},
     "output_type": "execute_result"
    }
   ],
   "source": [
    "#this function give me same data index like : [21]\n",
    "np.asanyarray(b)"
   ]
  },
  {
   "cell_type": "code",
   "execution_count": 15,
   "id": "ea0ed231-a4db-449e-a455-b4d34f4e9422",
   "metadata": {},
   "outputs": [],
   "source": [
    "a = np.array(l)"
   ]
  },
  {
   "cell_type": "code",
   "execution_count": 16,
   "id": "609fa2b5-518a-42f8-a17a-95ff11e608c1",
   "metadata": {},
   "outputs": [
    {
     "data": {
      "text/plain": [
       "array([1, 2, 3, 4, 5, 6])"
      ]
     },
     "execution_count": 16,
     "metadata": {},
     "output_type": "execute_result"
    }
   ],
   "source": [
    "a"
   ]
  },
  {
   "cell_type": "code",
   "execution_count": 17,
   "id": "576f6fe9-82d2-4e5c-bf70-454d5d4ff285",
   "metadata": {},
   "outputs": [],
   "source": [
    "# this function asing 2 types variable any kind of serche he is give me same value .\n",
    "c = a"
   ]
  },
  {
   "cell_type": "code",
   "execution_count": 18,
   "id": "e3c9da83-1f2c-4d47-a82f-d60a7e61392d",
   "metadata": {},
   "outputs": [
    {
     "data": {
      "text/plain": [
       "array([1, 2, 3, 4, 5, 6])"
      ]
     },
     "execution_count": 18,
     "metadata": {},
     "output_type": "execute_result"
    }
   ],
   "source": [
    "c"
   ]
  },
  {
   "cell_type": "code",
   "execution_count": 19,
   "id": "0df9c786-1bf2-4088-893c-993bb9e95001",
   "metadata": {},
   "outputs": [
    {
     "data": {
      "text/plain": [
       "array([1, 2, 3, 4, 5, 6])"
      ]
     },
     "execution_count": 19,
     "metadata": {},
     "output_type": "execute_result"
    }
   ],
   "source": [
    "a"
   ]
  },
  {
   "cell_type": "code",
   "execution_count": 20,
   "id": "0de15c98-95e1-4a22-a569-c382d4950028",
   "metadata": {},
   "outputs": [],
   "source": [
    "# this function change value array function \n",
    "c[0] =100"
   ]
  },
  {
   "cell_type": "code",
   "execution_count": 21,
   "id": "343a700d-61b4-4669-be6f-8f77a5e79b08",
   "metadata": {},
   "outputs": [
    {
     "data": {
      "text/plain": [
       "array([100,   2,   3,   4,   5,   6])"
      ]
     },
     "execution_count": 21,
     "metadata": {},
     "output_type": "execute_result"
    }
   ],
   "source": [
    "c"
   ]
  },
  {
   "cell_type": "code",
   "execution_count": 22,
   "id": "e4a9343a-3573-4042-9e15-55ed2ac79b23",
   "metadata": {},
   "outputs": [
    {
     "data": {
      "text/plain": [
       "array([100,   2,   3,   4,   5,   6])"
      ]
     },
     "execution_count": 22,
     "metadata": {},
     "output_type": "execute_result"
    }
   ],
   "source": [
    "a"
   ]
  },
  {
   "cell_type": "code",
   "execution_count": 23,
   "id": "eaa84dfb-b5ac-4cd8-8fe2-6609f24ac9c4",
   "metadata": {},
   "outputs": [],
   "source": [
    "#this function is deep copy and solo copy any numpy data\n",
    "d = np.copy(a)"
   ]
  },
  {
   "cell_type": "code",
   "execution_count": 24,
   "id": "cc0715c0-a87a-4d0a-b7ac-c127011e4e64",
   "metadata": {},
   "outputs": [
    {
     "data": {
      "text/plain": [
       "array([100,   2,   3,   4,   5,   6])"
      ]
     },
     "execution_count": 24,
     "metadata": {},
     "output_type": "execute_result"
    }
   ],
   "source": [
    "d"
   ]
  },
  {
   "cell_type": "code",
   "execution_count": 25,
   "id": "3c899327-ebab-41e4-bf91-48d573c027ff",
   "metadata": {},
   "outputs": [
    {
     "data": {
      "text/plain": [
       "array([100,   2,   3,   4,   5,   6])"
      ]
     },
     "execution_count": 25,
     "metadata": {},
     "output_type": "execute_result"
    }
   ],
   "source": [
    "a"
   ]
  },
  {
   "cell_type": "code",
   "execution_count": 26,
   "id": "4d32857a-4e17-49c6-8ee0-055dcacceed4",
   "metadata": {},
   "outputs": [],
   "source": [
    "#  this function work change list number \n",
    "a[1] =400"
   ]
  },
  {
   "cell_type": "code",
   "execution_count": 27,
   "id": "00531690-effc-4ed7-ac75-f71a6349a8d6",
   "metadata": {},
   "outputs": [
    {
     "data": {
      "text/plain": [
       "array([100, 400,   3,   4,   5,   6])"
      ]
     },
     "execution_count": 27,
     "metadata": {},
     "output_type": "execute_result"
    }
   ],
   "source": [
    "a"
   ]
  },
  {
   "cell_type": "code",
   "execution_count": 28,
   "id": "c9198c31-40a8-41d1-b932-ee6b6cf4ed26",
   "metadata": {},
   "outputs": [
    {
     "data": {
      "text/plain": [
       "array([100,   2,   3,   4,   5,   6])"
      ]
     },
     "execution_count": 28,
     "metadata": {},
     "output_type": "execute_result"
    }
   ],
   "source": [
    "#this function is deep copy and solo copy not permanetely chnange \n",
    "d"
   ]
  },
  {
   "cell_type": "code",
   "execution_count": 29,
   "id": "5a0eb602-9275-47d0-ad70-62922a17b710",
   "metadata": {},
   "outputs": [
    {
     "data": {
      "text/plain": [
       "array([[ True, False, False],\n",
       "       [False,  True, False],\n",
       "       [False, False,  True]])"
      ]
     },
     "execution_count": 29,
     "metadata": {},
     "output_type": "execute_result"
    }
   ],
   "source": [
    "#this function besicly show dmanstional array three time count in banary number lambda function with \n",
    "np.fromfunction(lambda i, j: i==j ,(3,3))"
   ]
  },
  {
   "cell_type": "code",
   "execution_count": 30,
   "id": "4879fd27-aec2-41a0-b953-db3cde0dc569",
   "metadata": {},
   "outputs": [
    {
     "data": {
      "text/plain": [
       "array([[0., 0., 0.],\n",
       "       [0., 1., 2.],\n",
       "       [0., 2., 4.]])"
      ]
     },
     "execution_count": 30,
     "metadata": {},
     "output_type": "execute_result"
    }
   ],
   "source": [
    "np.fromfunction(lambda i, j: i*j ,(3,3))"
   ]
  },
  {
   "cell_type": "code",
   "execution_count": 31,
   "id": "cffac165-e843-4d47-8041-fe0471a203f6",
   "metadata": {},
   "outputs": [],
   "source": [
    "#this function basicly using from ijter function through for loop and range function  with new data produce like : int ,boolen , float any numeric data . \n",
    "itrable =(i*i for i in range (5))"
   ]
  },
  {
   "cell_type": "code",
   "execution_count": 32,
   "id": "e137a5c9-e913-46c3-b6ae-278680fac927",
   "metadata": {},
   "outputs": [
    {
     "data": {
      "text/plain": [
       "array([ 0.,  1.,  4.,  9., 16.])"
      ]
     },
     "execution_count": 32,
     "metadata": {},
     "output_type": "execute_result"
    }
   ],
   "source": [
    "np.fromiter(itrable,float)"
   ]
  },
  {
   "cell_type": "code",
   "execution_count": 33,
   "id": "a35b5ef0-6b0b-499a-a5cb-61d4154faa02",
   "metadata": {},
   "outputs": [
    {
     "data": {
      "text/plain": [
       "array([234., 324.])"
      ]
     },
     "execution_count": 33,
     "metadata": {},
     "output_type": "execute_result"
    }
   ],
   "source": [
    "# thsi function using any daya brack center this function with works.\n",
    "np.fromstring('234 324' ,sep =' ')"
   ]
  },
  {
   "cell_type": "code",
   "execution_count": 34,
   "id": "85992a00-6d4d-4595-bcfc-65146db7cf4d",
   "metadata": {},
   "outputs": [
    {
     "data": {
      "text/plain": [
       "array([234., 324.])"
      ]
     },
     "execution_count": 34,
     "metadata": {},
     "output_type": "execute_result"
    }
   ],
   "source": [
    "np.fromstring('234 ,324' ,sep =' ,')"
   ]
  },
  {
   "cell_type": "code",
   "execution_count": 35,
   "id": "1c019109-6874-4e28-81fc-524571b6ed8c",
   "metadata": {},
   "outputs": [],
   "source": [
    "# Numpy - Data types ."
   ]
  },
  {
   "cell_type": "code",
   "execution_count": 36,
   "id": "d4453131-27a0-47d0-a80c-8f34856e162b",
   "metadata": {},
   "outputs": [],
   "source": [
    "l =[8,5,4,6,7,2]"
   ]
  },
  {
   "cell_type": "code",
   "execution_count": 37,
   "id": "da2881c0-c6d8-406f-a990-a1157dece4f4",
   "metadata": {},
   "outputs": [],
   "source": [
    "ar =np.array(l)"
   ]
  },
  {
   "cell_type": "code",
   "execution_count": 38,
   "id": "0d9fc90f-f8b9-4db4-bad2-41909a8a2e4e",
   "metadata": {},
   "outputs": [
    {
     "data": {
      "text/plain": [
       "array([8, 5, 4, 6, 7, 2])"
      ]
     },
     "execution_count": 38,
     "metadata": {},
     "output_type": "execute_result"
    }
   ],
   "source": [
    "ar"
   ]
  },
  {
   "cell_type": "code",
   "execution_count": 39,
   "id": "50e1e059-e7e7-4469-a55f-4669dd3f6b0b",
   "metadata": {},
   "outputs": [
    {
     "data": {
      "text/plain": [
       "1"
      ]
     },
     "execution_count": 39,
     "metadata": {},
     "output_type": "execute_result"
    }
   ],
   "source": [
    "#this function fing only how many dymantional \n",
    "ar.ndim"
   ]
  },
  {
   "cell_type": "code",
   "execution_count": 40,
   "id": "e1335559-aff0-49e4-8131-d551409f2deb",
   "metadata": {},
   "outputs": [],
   "source": [
    "ar2 = np.array([[4,8,5,9,4],\n",
    "                [7,2,8,6,7]])"
   ]
  },
  {
   "cell_type": "code",
   "execution_count": 41,
   "id": "1d65c843-5707-41aa-b5b2-bbe68e7cb142",
   "metadata": {},
   "outputs": [
    {
     "data": {
      "text/plain": [
       "array([[4, 8, 5, 9, 4],\n",
       "       [7, 2, 8, 6, 7]])"
      ]
     },
     "execution_count": 41,
     "metadata": {},
     "output_type": "execute_result"
    }
   ],
   "source": [
    "ar2"
   ]
  },
  {
   "cell_type": "code",
   "execution_count": 42,
   "id": "a32af328-ae0f-41bb-80b6-cf5b61f00c91",
   "metadata": {},
   "outputs": [
    {
     "data": {
      "text/plain": [
       "2"
      ]
     },
     "execution_count": 42,
     "metadata": {},
     "output_type": "execute_result"
    }
   ],
   "source": [
    "ar2.ndim"
   ]
  },
  {
   "cell_type": "code",
   "execution_count": 43,
   "id": "147c37f4-5c0e-4092-bde9-e338dcc4385b",
   "metadata": {},
   "outputs": [
    {
     "data": {
      "text/plain": [
       "6"
      ]
     },
     "execution_count": 43,
     "metadata": {},
     "output_type": "execute_result"
    }
   ],
   "source": [
    "ar.size"
   ]
  },
  {
   "cell_type": "code",
   "execution_count": 44,
   "id": "dd011e90-8776-482d-a6ba-aee25cb9fd38",
   "metadata": {},
   "outputs": [
    {
     "data": {
      "text/plain": [
       "10"
      ]
     },
     "execution_count": 44,
     "metadata": {},
     "output_type": "execute_result"
    }
   ],
   "source": [
    "ar2.size"
   ]
  },
  {
   "cell_type": "code",
   "execution_count": 45,
   "id": "eae59821-9675-4abf-bd82-3eb4251f2a0d",
   "metadata": {},
   "outputs": [
    {
     "data": {
      "text/plain": [
       "array([8, 5, 4, 6, 7, 2])"
      ]
     },
     "execution_count": 45,
     "metadata": {},
     "output_type": "execute_result"
    }
   ],
   "source": [
    "ar"
   ]
  },
  {
   "cell_type": "code",
   "execution_count": 46,
   "id": "1badaea4-866d-49a4-be1d-4fc436222c10",
   "metadata": {},
   "outputs": [
    {
     "data": {
      "text/plain": [
       "array([[4, 8, 5, 9, 4],\n",
       "       [7, 2, 8, 6, 7]])"
      ]
     },
     "execution_count": 46,
     "metadata": {},
     "output_type": "execute_result"
    }
   ],
   "source": [
    "ar2"
   ]
  },
  {
   "cell_type": "code",
   "execution_count": 47,
   "id": "e6aaf00a-2c8d-417d-adad-ba7c06877459",
   "metadata": {},
   "outputs": [
    {
     "data": {
      "text/plain": [
       "(6,)"
      ]
     },
     "execution_count": 47,
     "metadata": {},
     "output_type": "execute_result"
    }
   ],
   "source": [
    "ar.shape"
   ]
  },
  {
   "cell_type": "code",
   "execution_count": 48,
   "id": "824254cb-0f1a-4dc2-b375-1d164d020b0b",
   "metadata": {},
   "outputs": [
    {
     "data": {
      "text/plain": [
       "(2, 5)"
      ]
     },
     "execution_count": 48,
     "metadata": {},
     "output_type": "execute_result"
    }
   ],
   "source": [
    "# this function shape ganarate first Row [2] and second col [5].\n",
    "ar2.shape"
   ]
  },
  {
   "cell_type": "code",
   "execution_count": 49,
   "id": "9be0898f-bcf3-4c5c-bc12-e71ed4816be8",
   "metadata": {},
   "outputs": [],
   "source": [
    "# this function i am run one float data but output given all data convert float number \n",
    "ar11 =np.array([(1,5,7.8) ,(8,9,7.8)])"
   ]
  },
  {
   "cell_type": "code",
   "execution_count": 50,
   "id": "4fdb4b1a-984f-412b-be7c-9e4128fddcb5",
   "metadata": {},
   "outputs": [
    {
     "data": {
      "text/plain": [
       "array([[1. , 5. , 7.8],\n",
       "       [8. , 9. , 7.8]])"
      ]
     },
     "execution_count": 50,
     "metadata": {},
     "output_type": "execute_result"
    }
   ],
   "source": [
    "ar11"
   ]
  },
  {
   "cell_type": "code",
   "execution_count": 51,
   "id": "fad53142-1f7d-4aec-a926-a8560d2c6ad5",
   "metadata": {},
   "outputs": [
    {
     "data": {
      "text/plain": [
       "dtype('float64')"
      ]
     },
     "execution_count": 51,
     "metadata": {},
     "output_type": "execute_result"
    }
   ],
   "source": [
    "ar11.dtype"
   ]
  },
  {
   "cell_type": "code",
   "execution_count": 52,
   "id": "72ffc6e7-90b4-4d92-92e1-66397d2e7ba7",
   "metadata": {},
   "outputs": [
    {
     "data": {
      "text/plain": [
       "[0, 1, 2, 3, 4]"
      ]
     },
     "execution_count": 52,
     "metadata": {},
     "output_type": "execute_result"
    }
   ],
   "source": [
    "list(range(5))"
   ]
  },
  {
   "cell_type": "code",
   "execution_count": 53,
   "id": "2046e295-98ac-44a8-837d-f9ec27fab275",
   "metadata": {},
   "outputs": [
    {
     "ename": "TypeError",
     "evalue": "'float' object cannot be interpreted as an integer",
     "output_type": "error",
     "traceback": [
      "\u001b[0;31m---------------------------------------------------------------------------\u001b[0m",
      "\u001b[0;31mTypeError\u001b[0m                                 Traceback (most recent call last)",
      "Cell \u001b[0;32mIn[53], line 2\u001b[0m\n\u001b[1;32m      1\u001b[0m \u001b[38;5;66;03m# Range function only produce \"int number \"not float number but Numpy with posible floating number .\u001b[39;00m\n\u001b[0;32m----> 2\u001b[0m \u001b[38;5;28mlist\u001b[39m(\u001b[38;5;28;43mrange\u001b[39;49m\u001b[43m(\u001b[49m\u001b[38;5;241;43m1.5\u001b[39;49m\u001b[43m \u001b[49m\u001b[43m,\u001b[49m\u001b[38;5;241;43m5\u001b[39;49m\u001b[43m)\u001b[49m)\n",
      "\u001b[0;31mTypeError\u001b[0m: 'float' object cannot be interpreted as an integer"
     ]
    }
   ],
   "source": [
    "# Range function only produce \"int number \"not float number but Numpy with posible floating number .\n",
    "list(range(1.5 ,5))"
   ]
  },
  {
   "cell_type": "code",
   "execution_count": 54,
   "id": "9462729b-2f87-4765-879e-1585ba3d7390",
   "metadata": {},
   "outputs": [
    {
     "data": {
      "text/plain": [
       "array([1.5, 2.5, 3.5, 4.5, 5.5])"
      ]
     },
     "execution_count": 54,
     "metadata": {},
     "output_type": "execute_result"
    }
   ],
   "source": [
    "#this function with posible float number in numpy arange .\n",
    "np.arange(1.5 ,5.6)"
   ]
  },
  {
   "cell_type": "code",
   "execution_count": 55,
   "id": "1b31552b-4cc3-43d5-b6cf-e583c2e3c66a",
   "metadata": {},
   "outputs": [
    {
     "data": {
      "text/plain": [
       "array([1.5, 1.8, 2.1, 2.4, 2.7, 3. , 3.3, 3.6, 3.9, 4.2, 4.5, 4.8, 5.1,\n",
       "       5.4])"
      ]
     },
     "execution_count": 55,
     "metadata": {},
     "output_type": "execute_result"
    }
   ],
   "source": [
    "#This function with esey jump any kind of  data . and this data convert to list esey posible .\n",
    "np.arange(1.5 ,5.6,.3)"
   ]
  },
  {
   "cell_type": "code",
   "execution_count": 56,
   "id": "5abc29d9-7ace-4e85-bad5-c2a604ceff6d",
   "metadata": {},
   "outputs": [
    {
     "data": {
      "text/plain": [
       "[1.5,\n",
       " 1.8,\n",
       " 2.1,\n",
       " 2.4000000000000004,\n",
       " 2.7,\n",
       " 3.0,\n",
       " 3.3000000000000003,\n",
       " 3.6000000000000005,\n",
       " 3.9000000000000004,\n",
       " 4.2,\n",
       " 4.5,\n",
       " 4.800000000000001,\n",
       " 5.1000000000000005,\n",
       " 5.4]"
      ]
     },
     "execution_count": 56,
     "metadata": {},
     "output_type": "execute_result"
    }
   ],
   "source": [
    "list(np.arange(1.5 ,5.6,.3))"
   ]
  },
  {
   "cell_type": "code",
   "execution_count": 57,
   "id": "a7de2bd0-e361-4875-86b3-40819945f10f",
   "metadata": {},
   "outputs": [
    {
     "data": {
      "text/plain": [
       "array([1.        , 1.44444444, 1.88888889, 2.33333333, 2.77777778,\n",
       "       3.22222222, 3.66666667, 4.11111111, 4.55555556, 5.        ])"
      ]
     },
     "execution_count": 57,
     "metadata": {},
     "output_type": "execute_result"
    }
   ],
   "source": [
    "#this function besicly produce first 1,5 this data count in 2 line and last data produce 10 times produce data .\n",
    "np.linspace(1,5,10)"
   ]
  },
  {
   "cell_type": "code",
   "execution_count": 58,
   "id": "b1e860ea-9fc4-49ab-ba4e-dde03eb99030",
   "metadata": {},
   "outputs": [
    {
     "data": {
      "text/plain": [
       "array([0., 0., 0., 0., 0.])"
      ]
     },
     "execution_count": 58,
     "metadata": {},
     "output_type": "execute_result"
    }
   ],
   "source": [
    "# this data function produce 5 times zeros '0' .\n",
    "np.zeros(5)"
   ]
  },
  {
   "cell_type": "code",
   "execution_count": 59,
   "id": "ec957e41-dff9-4f40-a5cd-6de23a8df77d",
   "metadata": {},
   "outputs": [
    {
     "data": {
      "text/plain": [
       "array([0., 0., 0., 0., 0.])"
      ]
     },
     "execution_count": 59,
     "metadata": {},
     "output_type": "execute_result"
    }
   ],
   "source": [
    "#this data produce 3 Row and 5 col array function show '0'.\n",
    "np.zeros(5)"
   ]
  },
  {
   "cell_type": "code",
   "execution_count": 60,
   "id": "fbbe855e-8669-4151-b111-081d6264d65b",
   "metadata": {},
   "outputs": [
    {
     "data": {
      "text/plain": [
       "array([[[0., 0., 0., 0., 0.],\n",
       "        [0., 0., 0., 0., 0.],\n",
       "        [0., 0., 0., 0., 0.]],\n",
       "\n",
       "       [[0., 0., 0., 0., 0.],\n",
       "        [0., 0., 0., 0., 0.],\n",
       "        [0., 0., 0., 0., 0.]],\n",
       "\n",
       "       [[0., 0., 0., 0., 0.],\n",
       "        [0., 0., 0., 0., 0.],\n",
       "        [0., 0., 0., 0., 0.]],\n",
       "\n",
       "       [[0., 0., 0., 0., 0.],\n",
       "        [0., 0., 0., 0., 0.],\n",
       "        [0., 0., 0., 0., 0.]]])"
      ]
     },
     "execution_count": 60,
     "metadata": {},
     "output_type": "execute_result"
    }
   ],
   "source": [
    "##this data produce 4 Row and 5 col array function show '0'.\n",
    "# this data read 3 cross 5  (notes : 3 row and 5 col )\n",
    "np.zeros((4,3,5))"
   ]
  },
  {
   "cell_type": "code",
   "execution_count": 61,
   "id": "291b126b-aef3-4f3f-90e8-e9a00bce6c80",
   "metadata": {},
   "outputs": [
    {
     "data": {
      "text/plain": [
       "array([[[[0., 0., 0.],\n",
       "         [0., 0., 0.]],\n",
       "\n",
       "        [[0., 0., 0.],\n",
       "         [0., 0., 0.]],\n",
       "\n",
       "        [[0., 0., 0.],\n",
       "         [0., 0., 0.]]],\n",
       "\n",
       "\n",
       "       [[[0., 0., 0.],\n",
       "         [0., 0., 0.]],\n",
       "\n",
       "        [[0., 0., 0.],\n",
       "         [0., 0., 0.]],\n",
       "\n",
       "        [[0., 0., 0.],\n",
       "         [0., 0., 0.]]]])"
      ]
     },
     "execution_count": 61,
     "metadata": {},
     "output_type": "execute_result"
    }
   ],
   "source": [
    "# this function basicly using 1st and 2nd col * like (2*3=6) , 2 row 3 col.\n",
    "np.zeros((2,3,2,3))"
   ]
  },
  {
   "cell_type": "code",
   "execution_count": 62,
   "id": "9d5d6e64-61a3-4202-b13e-f9335445b136",
   "metadata": {},
   "outputs": [
    {
     "data": {
      "text/plain": [
       "array([1., 1., 1., 1.])"
      ]
     },
     "execution_count": 62,
     "metadata": {},
     "output_type": "execute_result"
    }
   ],
   "source": [
    "# this function produce float number in list \n",
    "np.ones(4)"
   ]
  },
  {
   "cell_type": "code",
   "execution_count": 63,
   "id": "5c7bd5cb-4390-4953-8c59-f51a224fc5ea",
   "metadata": {},
   "outputs": [
    {
     "data": {
      "text/plain": [
       "array([[1., 1., 1.],\n",
       "       [1., 1., 1.]])"
      ]
     },
     "execution_count": 63,
     "metadata": {},
     "output_type": "execute_result"
    }
   ],
   "source": [
    "# this function produce 2 row amd 3 col .float number '1.' .\n",
    "np.ones((2,3))"
   ]
  },
  {
   "cell_type": "code",
   "execution_count": 64,
   "id": "bcd63ba1-26d2-4c53-aa9d-562b39b2fa89",
   "metadata": {},
   "outputs": [],
   "source": [
    "on = np.ones((2,3,2))"
   ]
  },
  {
   "cell_type": "code",
   "execution_count": 65,
   "id": "4932ba56-606b-4081-b88a-ada50e7e02e5",
   "metadata": {},
   "outputs": [
    {
     "data": {
      "text/plain": [
       "array([[[6., 6.],\n",
       "        [6., 6.],\n",
       "        [6., 6.]],\n",
       "\n",
       "       [[6., 6.],\n",
       "        [6., 6.],\n",
       "        [6., 6.]]])"
      ]
     },
     "execution_count": 65,
     "metadata": {},
     "output_type": "execute_result"
    }
   ],
   "source": [
    "#This function sum 5 all '1' data with 5 sum produce out put :6 \n",
    "on +5"
   ]
  },
  {
   "cell_type": "code",
   "execution_count": 66,
   "id": "78c3dc93-bb8a-4be1-ae56-83131799735e",
   "metadata": {},
   "outputs": [
    {
     "data": {
      "text/plain": [
       "array([[[3., 3.],\n",
       "        [3., 3.],\n",
       "        [3., 3.]],\n",
       "\n",
       "       [[3., 3.],\n",
       "        [3., 3.],\n",
       "        [3., 3.]]])"
      ]
     },
     "execution_count": 66,
     "metadata": {},
     "output_type": "execute_result"
    }
   ],
   "source": [
    "#This function multipction 5 all '1' data with 3 'in2' produce out put :3 \n",
    "on *3"
   ]
  },
  {
   "cell_type": "code",
   "execution_count": 67,
   "id": "19876827-abfd-4ae9-80f5-4714a2689ffe",
   "metadata": {},
   "outputs": [
    {
     "data": {
      "text/plain": [
       "array([[3., 3., 3., 3.],\n",
       "       [3., 3., 3., 3.],\n",
       "       [3., 3., 3., 3.]])"
      ]
     },
     "execution_count": 67,
     "metadata": {},
     "output_type": "execute_result"
    }
   ],
   "source": [
    "#this function show me empty array data show me this method \n",
    "np.empty((3,4))"
   ]
  },
  {
   "cell_type": "code",
   "execution_count": 68,
   "id": "f34db66e-c0e5-4504-8e1a-13fbd414da7b",
   "metadata": {},
   "outputs": [
    {
     "data": {
      "text/plain": [
       "array([[1., 0., 0., 0.],\n",
       "       [0., 1., 0., 0.],\n",
       "       [0., 0., 1., 0.],\n",
       "       [0., 0., 0., 1.]])"
      ]
     },
     "execution_count": 68,
     "metadata": {},
     "output_type": "execute_result"
    }
   ],
   "source": [
    "#this fuction data in degnom show me '1' '1' data cross line in data '1' show me .\n",
    "np.eye(4)"
   ]
  },
  {
   "cell_type": "code",
   "execution_count": 69,
   "id": "7fb39d08-f8f1-49d8-8d5c-e3b10e005f27",
   "metadata": {},
   "outputs": [
    {
     "data": {
      "text/plain": [
       "array([2.        , 2.10526316, 2.21052632, 2.31578947, 2.42105263,\n",
       "       2.52631579, 2.63157895, 2.73684211, 2.84210526, 2.94736842,\n",
       "       3.05263158, 3.15789474, 3.26315789, 3.36842105, 3.47368421,\n",
       "       3.57894737, 3.68421053, 3.78947368, 3.89473684, 4.        ])"
      ]
     },
     "execution_count": 69,
     "metadata": {},
     "output_type": "execute_result"
    }
   ],
   "source": [
    "#this function work 2 and 4 with divid and give me 20 data this mathod .\n",
    "np.linspace(2,4, 20)"
   ]
  },
  {
   "cell_type": "code",
   "execution_count": 70,
   "id": "8c8a3248-a677-4340-b333-4cfdc68cead0",
   "metadata": {},
   "outputs": [
    {
     "data": {
      "text/plain": [
       "array([   100.        ,    215.443469  ,    464.15888336,   1000.        ,\n",
       "         2154.43469003,   4641.58883361,  10000.        ,  21544.34690032,\n",
       "        46415.88833613, 100000.        ])"
      ]
     },
     "execution_count": 70,
     "metadata": {},
     "output_type": "execute_result"
    }
   ],
   "source": [
    "# this function show me log data lenth 10 .\n",
    "np.logspace(2,5,10)"
   ]
  },
  {
   "cell_type": "code",
   "execution_count": 71,
   "id": "e4215f6e-2e36-4eec-9cc5-4a2a7a4d6ea9",
   "metadata": {},
   "outputs": [
    {
     "data": {
      "text/plain": [
       "array([ 4.        ,  5.0396842 ,  6.34960421,  8.        , 10.0793684 ,\n",
       "       12.69920842, 16.        , 20.1587368 , 25.39841683, 32.        ])"
      ]
     },
     "execution_count": 71,
     "metadata": {},
     "output_type": "execute_result"
    }
   ],
   "source": [
    "# this function show me log data lenth 10 . base 2 log blanck after give me data .\n",
    "np.logspace(2,5,10 , base =2)"
   ]
  },
  {
   "cell_type": "code",
   "execution_count": 72,
   "id": "153a27b1-3474-48de-969e-b8bd77c761c1",
   "metadata": {},
   "outputs": [],
   "source": [
    "# this function with produce randam data 3 row 4 cal data .\n",
    "arr=np.random.randn(3,4)"
   ]
  },
  {
   "cell_type": "code",
   "execution_count": 73,
   "id": "6dc79f05-321b-489d-bdc1-6f73d7424716",
   "metadata": {},
   "outputs": [],
   "source": [
    "import pandas as pd"
   ]
  },
  {
   "cell_type": "code",
   "execution_count": 74,
   "id": "f17517b3-5bb6-4b2e-b502-ad57ff56a1af",
   "metadata": {},
   "outputs": [],
   "source": [
    "df =pd.DataFrame(arr)"
   ]
  },
  {
   "cell_type": "code",
   "execution_count": 75,
   "id": "edb18d31-d68e-411e-a6de-8f79e401500c",
   "metadata": {},
   "outputs": [
    {
     "data": {
      "text/html": [
       "<div>\n",
       "<style scoped>\n",
       "    .dataframe tbody tr th:only-of-type {\n",
       "        vertical-align: middle;\n",
       "    }\n",
       "\n",
       "    .dataframe tbody tr th {\n",
       "        vertical-align: top;\n",
       "    }\n",
       "\n",
       "    .dataframe thead th {\n",
       "        text-align: right;\n",
       "    }\n",
       "</style>\n",
       "<table border=\"1\" class=\"dataframe\">\n",
       "  <thead>\n",
       "    <tr style=\"text-align: right;\">\n",
       "      <th></th>\n",
       "      <th>0</th>\n",
       "      <th>1</th>\n",
       "      <th>2</th>\n",
       "      <th>3</th>\n",
       "    </tr>\n",
       "  </thead>\n",
       "  <tbody>\n",
       "    <tr>\n",
       "      <th>0</th>\n",
       "      <td>-1.351930</td>\n",
       "      <td>-0.224650</td>\n",
       "      <td>0.718979</td>\n",
       "      <td>-0.877264</td>\n",
       "    </tr>\n",
       "    <tr>\n",
       "      <th>1</th>\n",
       "      <td>0.596148</td>\n",
       "      <td>1.070499</td>\n",
       "      <td>0.480609</td>\n",
       "      <td>0.574842</td>\n",
       "    </tr>\n",
       "    <tr>\n",
       "      <th>2</th>\n",
       "      <td>-1.251094</td>\n",
       "      <td>0.733430</td>\n",
       "      <td>-0.072105</td>\n",
       "      <td>0.891407</td>\n",
       "    </tr>\n",
       "  </tbody>\n",
       "</table>\n",
       "</div>"
      ],
      "text/plain": [
       "          0         1         2         3\n",
       "0 -1.351930 -0.224650  0.718979 -0.877264\n",
       "1  0.596148  1.070499  0.480609  0.574842\n",
       "2 -1.251094  0.733430 -0.072105  0.891407"
      ]
     },
     "execution_count": 75,
     "metadata": {},
     "output_type": "execute_result"
    }
   ],
   "source": [
    "df"
   ]
  },
  {
   "cell_type": "code",
   "execution_count": 76,
   "id": "03a42c76-511b-482b-afad-e541b695b701",
   "metadata": {},
   "outputs": [
    {
     "data": {
      "text/plain": [
       "array([[0.14211396, 0.787551  , 0.3331358 , 0.2793748 ],\n",
       "       [0.53643558, 0.35117189, 0.30682615, 0.21224196],\n",
       "       [0.10257573, 0.84918398, 0.22851141, 0.07152111]])"
      ]
     },
     "execution_count": 76,
     "metadata": {},
     "output_type": "execute_result"
    }
   ],
   "source": [
    "# this function with ganarate ramdom data \n",
    "# defrence random and rand fuction data mean 0 and standard davion 1 deffrent both data \n",
    "np.random.rand(3,4)"
   ]
  },
  {
   "cell_type": "code",
   "execution_count": 77,
   "id": "c7e57552-17ae-4a49-bc75-af3f0e11aa18",
   "metadata": {},
   "outputs": [],
   "source": [
    "# this data only produce integer data and convert this dataframe .\n",
    "#notes :1 to 110 range difind and 3 or 4 cross data. \n",
    "pd.DataFrame(np.random.randint(1,110, (350,420))).to_csv('Random_data.csv')"
   ]
  },
  {
   "cell_type": "code",
   "execution_count": 78,
   "id": "c8386240-2625-4d91-a525-e2e41d238e5e",
   "metadata": {},
   "outputs": [],
   "source": [
    "# this data change difrent shape \n",
    "arr =np.random.rand(3,4)"
   ]
  },
  {
   "cell_type": "code",
   "execution_count": 79,
   "id": "7ce35148-8c23-46f5-bb9e-a0e7c1c2a086",
   "metadata": {},
   "outputs": [
    {
     "data": {
      "text/plain": [
       "array([[0.54553775, 0.06873302, 0.18120052, 0.18602703],\n",
       "       [0.63318006, 0.00395937, 0.26779342, 0.1217748 ],\n",
       "       [0.65428535, 0.36913044, 0.67491328, 0.25192681]])"
      ]
     },
     "execution_count": 79,
     "metadata": {},
     "output_type": "execute_result"
    }
   ],
   "source": [
    "arr"
   ]
  },
  {
   "cell_type": "code",
   "execution_count": 80,
   "id": "29c6a47f-3bd0-4f84-bf9d-27ed6530a97d",
   "metadata": {},
   "outputs": [],
   "source": [
    "# this data change reshape with this data .\n",
    "arr1 =arr.reshape(6,2)"
   ]
  },
  {
   "cell_type": "code",
   "execution_count": 81,
   "id": "a30645fb-70f2-4f93-959d-89c409dc64c2",
   "metadata": {},
   "outputs": [
    {
     "data": {
      "text/plain": [
       "array([[0.54553775, 0.06873302],\n",
       "       [0.18120052, 0.18602703],\n",
       "       [0.63318006, 0.00395937],\n",
       "       [0.26779342, 0.1217748 ],\n",
       "       [0.65428535, 0.36913044],\n",
       "       [0.67491328, 0.25192681]])"
      ]
     },
     "execution_count": 81,
     "metadata": {},
     "output_type": "execute_result"
    }
   ],
   "source": [
    "arr1"
   ]
  },
  {
   "cell_type": "code",
   "execution_count": 82,
   "id": "eb2bb5f6-c105-47e7-8793-2df47f20d64a",
   "metadata": {},
   "outputs": [
    {
     "data": {
      "text/plain": [
       "0.18602702916570257"
      ]
     },
     "execution_count": 82,
     "metadata": {},
     "output_type": "execute_result"
    }
   ],
   "source": [
    "#this function with find single data any loaction only diofind row and col index number .\n",
    "arr1[1][1]"
   ]
  },
  {
   "cell_type": "code",
   "execution_count": 83,
   "id": "c1833b3b-a51a-44ab-9676-d01a3f4efa10",
   "metadata": {},
   "outputs": [
    {
     "data": {
      "text/plain": [
       "array([0.00395937, 0.1217748 , 0.36913044])"
      ]
     },
     "execution_count": 83,
     "metadata": {},
     "output_type": "execute_result"
    }
   ],
   "source": [
    "#this function with fing 2 row with 5 and 2 data with last line 3 data find . this mathod .\n",
    "#example [2:5] show me row  1 col 2nd row data .\n",
    "arr1[2:5,1]"
   ]
  },
  {
   "cell_type": "code",
   "execution_count": 84,
   "id": "8c972d75-92bc-46dc-a5e5-1ad3e2f78c20",
   "metadata": {},
   "outputs": [],
   "source": [
    "# client tell me fing only 50 data abave data fing only ?\n",
    "aar2 = np.random.randint(1,100 ,(5,5))"
   ]
  },
  {
   "cell_type": "code",
   "execution_count": 85,
   "id": "91c35baa-b901-46c6-b683-b7027e793733",
   "metadata": {},
   "outputs": [
    {
     "data": {
      "text/plain": [
       "array([[67,  3, 10, 24,  1],\n",
       "       [ 2, 89, 17, 77, 59],\n",
       "       [29, 40,  5, 92, 33],\n",
       "       [51, 16, 92, 20, 34],\n",
       "       [95, 28, 76, 73, 16]])"
      ]
     },
     "execution_count": 85,
     "metadata": {},
     "output_type": "execute_result"
    }
   ],
   "source": [
    "aar2"
   ]
  },
  {
   "cell_type": "code",
   "execution_count": 86,
   "id": "bee3c285-6ce5-499f-9d14-98c5cf0cd9ac",
   "metadata": {},
   "outputs": [
    {
     "data": {
      "text/plain": [
       "array([67, 89, 77, 59, 92, 51, 92, 95, 76, 73])"
      ]
     },
     "execution_count": 86,
     "metadata": {},
     "output_type": "execute_result"
    }
   ],
   "source": [
    "# this mathod with fing 50 abave data .\n",
    "aar2[aar2 >50]"
   ]
  },
  {
   "cell_type": "code",
   "execution_count": 87,
   "id": "586c066e-48ac-4166-98a8-06d34d8b13e0",
   "metadata": {},
   "outputs": [
    {
     "data": {
      "text/plain": [
       "array([[67,  3, 10, 24,  1],\n",
       "       [ 2, 89, 17, 77, 59],\n",
       "       [29, 40,  5, 92, 33],\n",
       "       [51, 16, 92, 20, 34],\n",
       "       [95, 28, 76, 73, 16]])"
      ]
     },
     "execution_count": 87,
     "metadata": {},
     "output_type": "execute_result"
    }
   ],
   "source": [
    "aar2"
   ]
  },
  {
   "cell_type": "code",
   "execution_count": 88,
   "id": "d622c67f-078b-42b8-8b91-1cd631acffc6",
   "metadata": {},
   "outputs": [
    {
     "data": {
      "text/plain": [
       "array([[40,  5],\n",
       "       [16, 92]])"
      ]
     },
     "execution_count": 88,
     "metadata": {},
     "output_type": "execute_result"
    }
   ],
   "source": [
    "# this function with salising any data find any loction .\n",
    "aar2[2:4 ,[1,2]]"
   ]
  },
  {
   "cell_type": "code",
   "execution_count": 89,
   "id": "715f5d1d-3611-439c-9377-be3487cb48ce",
   "metadata": {},
   "outputs": [],
   "source": [
    "# this mathod with any data manycule any data with .\n",
    "aar2[0][0] =600"
   ]
  },
  {
   "cell_type": "code",
   "execution_count": 90,
   "id": "6130fe86-198b-4ed2-929d-928bf5e4621d",
   "metadata": {},
   "outputs": [
    {
     "data": {
      "text/plain": [
       "array([[600,   3,  10,  24,   1],\n",
       "       [  2,  89,  17,  77,  59],\n",
       "       [ 29,  40,   5,  92,  33],\n",
       "       [ 51,  16,  92,  20,  34],\n",
       "       [ 95,  28,  76,  73,  16]])"
      ]
     },
     "execution_count": 90,
     "metadata": {},
     "output_type": "execute_result"
    }
   ],
   "source": [
    "aar2"
   ]
  },
  {
   "cell_type": "code",
   "execution_count": 91,
   "id": "0190e700-faf0-4c03-bd26-ce2c46a1e7d7",
   "metadata": {},
   "outputs": [],
   "source": [
    "arr1 = np.random.randint(1,3,(3,3))\n",
    "arr2 = np.random.randint(1,3,(3,3))"
   ]
  },
  {
   "cell_type": "code",
   "execution_count": 92,
   "id": "de349d2a-0820-45c1-bc00-179d8e9d17a4",
   "metadata": {},
   "outputs": [
    {
     "data": {
      "text/plain": [
       "array([[2, 2, 1],\n",
       "       [2, 2, 1],\n",
       "       [1, 2, 1]])"
      ]
     },
     "execution_count": 92,
     "metadata": {},
     "output_type": "execute_result"
    }
   ],
   "source": [
    "arr1"
   ]
  },
  {
   "cell_type": "code",
   "execution_count": 93,
   "id": "cf8ea48d-0fae-4e72-8bc3-ab2dc0e3cfc5",
   "metadata": {},
   "outputs": [
    {
     "data": {
      "text/plain": [
       "array([[2, 1, 1],\n",
       "       [2, 2, 2],\n",
       "       [1, 2, 1]])"
      ]
     },
     "execution_count": 93,
     "metadata": {},
     "output_type": "execute_result"
    }
   ],
   "source": [
    "arr2"
   ]
  },
  {
   "cell_type": "code",
   "execution_count": 94,
   "id": "a4af182d-fa54-4434-8528-ed75bbcaacf8",
   "metadata": {},
   "outputs": [
    {
     "data": {
      "text/plain": [
       "array([[4, 3, 2],\n",
       "       [4, 4, 3],\n",
       "       [2, 4, 2]])"
      ]
     },
     "execution_count": 94,
     "metadata": {},
     "output_type": "execute_result"
    }
   ],
   "source": [
    "# this function count sum 1fst and 2nd (notes :first index - 1  +2nd index -2 both sum then produce output : 3 \n",
    "arr1+arr2"
   ]
  },
  {
   "cell_type": "code",
   "execution_count": 95,
   "id": "687ad198-3a3e-4e4d-950d-2bf1927d5e8c",
   "metadata": {},
   "outputs": [
    {
     "data": {
      "text/plain": [
       "array([[ 0,  1,  0],\n",
       "       [ 0,  0, -1],\n",
       "       [ 0,  0,  0]])"
      ]
     },
     "execution_count": 95,
     "metadata": {},
     "output_type": "execute_result"
    }
   ],
   "source": [
    "arr1-arr2"
   ]
  },
  {
   "cell_type": "code",
   "execution_count": 96,
   "id": "dde17ffc-7c43-40fa-a5a3-abac0a537068",
   "metadata": {},
   "outputs": [
    {
     "data": {
      "text/plain": [
       "array([[1. , 2. , 1. ],\n",
       "       [1. , 1. , 0.5],\n",
       "       [1. , 1. , 1. ]])"
      ]
     },
     "execution_count": 96,
     "metadata": {},
     "output_type": "execute_result"
    }
   ],
   "source": [
    "arr1/arr2"
   ]
  },
  {
   "cell_type": "code",
   "execution_count": 97,
   "id": "32566e36-7fdc-4871-b01f-f56f8bfa366e",
   "metadata": {},
   "outputs": [
    {
     "data": {
      "text/plain": [
       "array([[4, 2, 1],\n",
       "       [4, 4, 2],\n",
       "       [1, 4, 1]])"
      ]
     },
     "execution_count": 97,
     "metadata": {},
     "output_type": "execute_result"
    }
   ],
   "source": [
    "#this is not metric multipation [ this si only index wise multipication ]\n",
    "# col frist metric and row 2nd matric multipication .\n",
    "arr1*arr2"
   ]
  },
  {
   "cell_type": "code",
   "execution_count": 98,
   "id": "7a2d1c98-ea63-47b6-bfdd-34dab2904c7b",
   "metadata": {},
   "outputs": [
    {
     "data": {
      "text/plain": [
       "array([[9, 8, 7],\n",
       "       [9, 8, 7],\n",
       "       [7, 7, 6]])"
      ]
     },
     "execution_count": 98,
     "metadata": {},
     "output_type": "execute_result"
    }
   ],
   "source": [
    "#this is matric multipication '@' function with .not '*' function . \n",
    "arr1@arr2"
   ]
  },
  {
   "cell_type": "code",
   "execution_count": 99,
   "id": "50690595-a2e8-41ff-8d51-17fbfd34cfcf",
   "metadata": {},
   "outputs": [
    {
     "name": "stderr",
     "output_type": "stream",
     "text": [
      "/tmp/ipykernel_77/1510032488.py:1: RuntimeWarning: divide by zero encountered in divide\n",
      "  arr1/0\n"
     ]
    },
    {
     "data": {
      "text/plain": [
       "array([[inf, inf, inf],\n",
       "       [inf, inf, inf],\n",
       "       [inf, inf, inf]])"
      ]
     },
     "execution_count": 99,
     "metadata": {},
     "output_type": "execute_result"
    }
   ],
   "source": [
    "arr1/0"
   ]
  },
  {
   "cell_type": "code",
   "execution_count": 100,
   "id": "a8d66907-715b-412b-87ac-7bb494ea1ee5",
   "metadata": {},
   "outputs": [
    {
     "data": {
      "text/plain": [
       "array([[102, 102, 101],\n",
       "       [102, 102, 101],\n",
       "       [101, 102, 101]])"
      ]
     },
     "execution_count": 100,
     "metadata": {},
     "output_type": "execute_result"
    }
   ],
   "source": [
    "# this numpy fuction add any number like this add value in index array .\n",
    "arr1 +100"
   ]
  },
  {
   "cell_type": "code",
   "execution_count": null,
   "id": "9a68a536-4473-4771-bdfe-a621266ecdf7",
   "metadata": {},
   "outputs": [],
   "source": []
  },
  {
   "cell_type": "code",
   "execution_count": 101,
   "id": "b53792d7-edd6-4e44-8b6f-9feafaf7e98b",
   "metadata": {},
   "outputs": [
    {
     "data": {
      "text/plain": [
       "array([[4, 4, 1],\n",
       "       [4, 4, 1],\n",
       "       [1, 4, 1]])"
      ]
     },
     "execution_count": 101,
     "metadata": {},
     "output_type": "execute_result"
    }
   ],
   "source": [
    "arr1**2"
   ]
  },
  {
   "cell_type": "code",
   "execution_count": 102,
   "id": "303f0ca7-8b15-47c6-9056-b7761b0f6e93",
   "metadata": {},
   "outputs": [],
   "source": [
    "# Numpy - Broadcasting."
   ]
  },
  {
   "cell_type": "code",
   "execution_count": 103,
   "id": "d30ec658-9bb1-41fe-8f39-0171f8211ca6",
   "metadata": {},
   "outputs": [],
   "source": [
    "arr =np.zeros((4,4))"
   ]
  },
  {
   "cell_type": "code",
   "execution_count": 104,
   "id": "de6db754-41ac-4bf1-a8a0-232ebb370b37",
   "metadata": {},
   "outputs": [
    {
     "data": {
      "text/plain": [
       "array([[0., 0., 0., 0.],\n",
       "       [0., 0., 0., 0.],\n",
       "       [0., 0., 0., 0.],\n",
       "       [0., 0., 0., 0.]])"
      ]
     },
     "execution_count": 104,
     "metadata": {},
     "output_type": "execute_result"
    }
   ],
   "source": [
    "arr"
   ]
  },
  {
   "cell_type": "code",
   "execution_count": 115,
   "id": "6fd48f45-9d33-41dc-9f41-73ccff901db9",
   "metadata": {},
   "outputs": [],
   "source": [
    "row =np.array([1,2,3,4])"
   ]
  },
  {
   "cell_type": "code",
   "execution_count": 116,
   "id": "dec4ff92-cde0-4c00-a9c6-51f2da127453",
   "metadata": {},
   "outputs": [
    {
     "data": {
      "text/plain": [
       "array([1, 2, 3, 4])"
      ]
     },
     "execution_count": 116,
     "metadata": {},
     "output_type": "execute_result"
    }
   ],
   "source": [
    "row"
   ]
  },
  {
   "cell_type": "code",
   "execution_count": 117,
   "id": "32c8feb0-2511-4c99-86ca-8643cba3107d",
   "metadata": {},
   "outputs": [
    {
     "data": {
      "text/plain": [
       "array([[1., 2., 3., 4.],\n",
       "       [1., 2., 3., 4.],\n",
       "       [1., 2., 3., 4.],\n",
       "       [1., 2., 3., 4.]])"
      ]
     },
     "execution_count": 117,
     "metadata": {},
     "output_type": "execute_result"
    }
   ],
   "source": [
    "# this fucnction run Broadcasting row wise data calucalte .\n",
    "arr+row"
   ]
  },
  {
   "cell_type": "code",
   "execution_count": 118,
   "id": "c2a57f90-2ffe-406f-9b65-ad3897f7fd9f",
   "metadata": {},
   "outputs": [
    {
     "data": {
      "text/plain": [
       "array([1, 2, 3, 4])"
      ]
     },
     "execution_count": 118,
     "metadata": {},
     "output_type": "execute_result"
    }
   ],
   "source": [
    "row.T"
   ]
  },
  {
   "cell_type": "code",
   "execution_count": 123,
   "id": "58818e3c-d4a7-48a8-8d83-4c9c960cc30e",
   "metadata": {},
   "outputs": [],
   "source": [
    "#this function rotat 360'  this function with in numpy .\n",
    "col = np.array([[1,2,3,4]])"
   ]
  },
  {
   "cell_type": "code",
   "execution_count": 124,
   "id": "7753b036-6911-403b-99d0-30da3c3b93bf",
   "metadata": {},
   "outputs": [
    {
     "data": {
      "text/plain": [
       "array([[1, 2, 3, 4]])"
      ]
     },
     "execution_count": 124,
     "metadata": {},
     "output_type": "execute_result"
    }
   ],
   "source": [
    "col"
   ]
  },
  {
   "cell_type": "code",
   "execution_count": 125,
   "id": "e5504c21-10a1-4a3e-a79a-b1b3841815be",
   "metadata": {},
   "outputs": [
    {
     "data": {
      "text/plain": [
       "array([[1, 2, 3, 4]])"
      ]
     },
     "execution_count": 125,
     "metadata": {},
     "output_type": "execute_result"
    }
   ],
   "source": [
    "col"
   ]
  },
  {
   "cell_type": "code",
   "execution_count": 127,
   "id": "5bc0c3d8-c6c6-45eb-915f-d1ab3a6810a2",
   "metadata": {},
   "outputs": [
    {
     "data": {
      "text/plain": [
       "array([[1., 1., 1., 1.],\n",
       "       [2., 2., 2., 2.],\n",
       "       [3., 3., 3., 3.],\n",
       "       [4., 4., 4., 4.]])"
      ]
     },
     "execution_count": 127,
     "metadata": {},
     "output_type": "execute_result"
    }
   ],
   "source": [
    "#this is rule with data function Broadcating function .\n",
    "col.T+arr"
   ]
  },
  {
   "cell_type": "code",
   "execution_count": 130,
   "id": "a28eea31-a58d-4603-9ce5-69b136f1f606",
   "metadata": {},
   "outputs": [],
   "source": [
    "data1 =np.random.randint(1,4,(3,4))"
   ]
  },
  {
   "cell_type": "code",
   "execution_count": 131,
   "id": "1349a6d9-5a2c-4af9-a771-73bafd0d6cd5",
   "metadata": {},
   "outputs": [
    {
     "data": {
      "text/plain": [
       "array([[2, 1, 3, 3],\n",
       "       [2, 1, 2, 1],\n",
       "       [2, 3, 3, 1]])"
      ]
     },
     "execution_count": 131,
     "metadata": {},
     "output_type": "execute_result"
    }
   ],
   "source": [
    "data1"
   ]
  },
  {
   "cell_type": "code",
   "execution_count": 132,
   "id": "861ee8e4-eae4-4660-a04a-8fbe5c2b6cc7",
   "metadata": {},
   "outputs": [
    {
     "data": {
      "text/plain": [
       "array([[1.41421356, 1.        , 1.73205081, 1.73205081],\n",
       "       [1.41421356, 1.        , 1.41421356, 1.        ],\n",
       "       [1.41421356, 1.73205081, 1.73205081, 1.        ]])"
      ]
     },
     "execution_count": 132,
     "metadata": {},
     "output_type": "execute_result"
    }
   ],
   "source": [
    "#this function with Squar rute fing \n",
    "np.sqrt(data1)"
   ]
  },
  {
   "cell_type": "code",
   "execution_count": 134,
   "id": "1e1e06a8-2dc0-4cbe-8f02-2288b6950c1e",
   "metadata": {},
   "outputs": [
    {
     "data": {
      "text/plain": [
       "array([[ 7.3890561 ,  2.71828183, 20.08553692, 20.08553692],\n",
       "       [ 7.3890561 ,  2.71828183,  7.3890561 ,  2.71828183],\n",
       "       [ 7.3890561 , 20.08553692, 20.08553692,  2.71828183]])"
      ]
     },
     "execution_count": 134,
     "metadata": {},
     "output_type": "execute_result"
    }
   ],
   "source": [
    "# this function with expand fing this data base.\n",
    "np.exp(data1)"
   ]
  },
  {
   "cell_type": "code",
   "execution_count": 135,
   "id": "fc68dea0-b02e-4da4-ab07-2d57947b46ef",
   "metadata": {},
   "outputs": [
    {
     "data": {
      "text/plain": [
       "array([[0.30103   , 0.        , 0.47712125, 0.47712125],\n",
       "       [0.30103   , 0.        , 0.30103   , 0.        ],\n",
       "       [0.30103   , 0.47712125, 0.47712125, 0.        ]])"
      ]
     },
     "execution_count": 135,
     "metadata": {},
     "output_type": "execute_result"
    }
   ],
   "source": [
    "#this function with find log 10 value find .\n",
    "np.log10(data1)"
   ]
  },
  {
   "cell_type": "code",
   "execution_count": null,
   "id": "b10e942d-b492-4d42-b2bc-72fbdf80ec25",
   "metadata": {},
   "outputs": [],
   "source": []
  }
 ],
 "metadata": {
  "kernelspec": {
   "display_name": "Python 3 (ipykernel)",
   "language": "python",
   "name": "python3"
  },
  "language_info": {
   "codemirror_mode": {
    "name": "ipython",
    "version": 3
   },
   "file_extension": ".py",
   "mimetype": "text/x-python",
   "name": "python",
   "nbconvert_exporter": "python",
   "pygments_lexer": "ipython3",
   "version": "3.10.8"
  },
  "toc-autonumbering": false,
  "toc-showmarkdowntxt": false,
  "toc-showtags": false
 },
 "nbformat": 4,
 "nbformat_minor": 5
}
